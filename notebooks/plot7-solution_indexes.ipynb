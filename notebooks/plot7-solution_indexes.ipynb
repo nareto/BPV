{
 "cells": [
  {
   "cell_type": "code",
   "execution_count": 1,
   "metadata": {
    "collapsed": false
   },
   "outputs": [
    {
     "name": "stdout",
     "output_type": "stream",
     "text": [
      "The autoreload extension is already loaded. To reload it, use:\n",
      "  %reload_ext autoreload\n"
     ]
    }
   ],
   "source": [
    "%load_ext autoreload\n",
    "%autoreload 2\n",
    "import matplotlib\n",
    "matplotlib.use('TkAgg')\n",
    "#%matplotlib inline\n",
    "import BPV\n",
    "import pattern_manipulation as pm\n",
    "import numpy as np\n",
    "import matplotlib.pyplot as plt\n",
    "import pandas as pd\n",
    "from mpl_toolkits.mplot3d import Axes3D\n",
    "from matplotlib import cm\n",
    "from matplotlib.ticker import LinearLocator, FormatStrFormatter\n",
    "import pickle\n",
    "\n",
    "Wmin = 0.001\n",
    "Wmax = 0.25\n",
    "Wnsteps = 30\n",
    "Wstep = (Wmax - Wmin)/Wnsteps\n",
    "Wrange = np.arange(Wmin,Wmax,Wstep)\n",
    "\n",
    "Nmin = 10\n",
    "Nmax = 150\n",
    "Nnsteps = 30\n",
    "Nstep = (Nmax - Nmin)/Nnsteps\n",
    "Nrange = np.arange(Nmin,Nmax,Nstep, dtype='int')\n",
    "\n",
    "nproblems = Wnsteps*Nnsteps\n",
    "\n",
    "data = BPV.Data()\n",
    "data.read_csv(\"pixel.dist.csv\",False)\n",
    "data.df.sort_index(by=\"p\",inplace=True,ascending=True)\n",
    "data.df.set_index(pd.Index([j for j in range(len(data.df))]), inplace=True)"
   ]
  },
  {
   "cell_type": "code",
   "execution_count": 28,
   "metadata": {
    "collapsed": true
   },
   "outputs": [],
   "source": [
    "N = 130\n",
    "W = 0.025\n",
    "\n",
    "prbl_ex = BPV.BPV(\"pulp\",data,N,W,time_solver=False)\n",
    "prbl_ex.solve()\n",
    "prbl_heur = BPV.BPV(\"heuristic\",data,N,W,time_solver=False)\n",
    "prbl_heur.solve()"
   ]
  },
  {
   "cell_type": "code",
   "execution_count": 24,
   "metadata": {
    "collapsed": false
   },
   "outputs": [],
   "source": [
    "he_sol = prbl_heur.solution.index\n",
    "ex_sol = prbl_ex.solution.index\n",
    "\n",
    "plt.plot(ex_sol,[0]*len(ex_sol), '.')\n",
    "plt.plot(he_sol,[0]*len(he_sol), linewidth=10, alpha=0.5)\n",
    "plt.show()"
   ]
  },
  {
   "cell_type": "code",
   "execution_count": 29,
   "metadata": {
    "collapsed": false
   },
   "outputs": [
    {
     "data": {
      "text/plain": [
       "0.037593984962406013"
      ]
     },
     "execution_count": 29,
     "metadata": {},
     "output_type": "execute_result"
    }
   ],
   "source": [
    "prbl_ex.solution_not_interval_measure()\n",
    "#prbl_ex.data.df\n",
    "#prbl_ex.selected_solution"
   ]
  }
 ],
 "metadata": {
  "kernelspec": {
   "display_name": "Python 3",
   "language": "python",
   "name": "python3"
  },
  "language_info": {
   "codemirror_mode": {
    "name": "ipython",
    "version": 3
   },
   "file_extension": ".py",
   "mimetype": "text/x-python",
   "name": "python",
   "nbconvert_exporter": "python",
   "pygments_lexer": "ipython3",
   "version": "3.4.3"
  }
 },
 "nbformat": 4,
 "nbformat_minor": 0
}
