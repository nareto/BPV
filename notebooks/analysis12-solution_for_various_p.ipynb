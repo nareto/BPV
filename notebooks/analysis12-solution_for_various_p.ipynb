{
 "cells": [
  {
   "cell_type": "code",
   "execution_count": 104,
   "metadata": {
    "collapsed": false
   },
   "outputs": [
    {
     "name": "stdout",
     "output_type": "stream",
     "text": [
      "The autoreload extension is already loaded. To reload it, use:\n",
      "  %reload_ext autoreload\n"
     ]
    }
   ],
   "source": [
    "%load_ext autoreload\n",
    "%autoreload 0\n",
    "import sys\n",
    "#sys.path.append('/usr/lib/python3.4/site-packages')\n",
    "import matplotlib\n",
    "#%matplotlib inline\n",
    "matplotlib.use('TkAgg')\n",
    "import BPV\n",
    "import pattern_manipulation as pm\n",
    "import matplotlib.gridspec as gridspec\n",
    "import numpy as np\n",
    "import matplotlib.pyplot as plt\n",
    "import pandas as pd\n",
    "import matplotlib.mlab \n"
   ]
  },
  {
   "cell_type": "code",
   "execution_count": 158,
   "metadata": {
    "collapsed": false,
    "scrolled": true
   },
   "outputs": [
    {
     "name": "stdout",
     "output_type": "stream",
     "text": [
      "i=0, v=1.0, variance=0.001676217667455745\n",
      "\n",
      "Solver =  decgraphH \n",
      "Entropy =  0.0835487096533 \n",
      "Cardinality =  5 \n",
      "Rate =  0.00994889246071\n",
      "Solution time in seconds =  11.665469660998497\n",
      "i=1, v=1.4, variance=0.0010830126197949848\n",
      "\n",
      "Solver =  decgraphH \n",
      "Entropy =  0.0859368349697 \n",
      "Cardinality =  5 \n",
      "Rate =  0.00995500580203\n",
      "Solution time in seconds =  8.48161833499762\n",
      "i=2, v=1.7999999999999998, variance=0.0007534550670624507\n",
      "\n",
      "Solver =  decgraphH \n",
      "Entropy =  0.0863408307629 \n",
      "Cardinality =  5 \n",
      "Rate =  0.00986223934952\n",
      "Solution time in seconds =  8.68049592099851\n",
      "i=3, v=2.1999999999999997, variance=0.0005437922111857747\n",
      "\n",
      "Solver =  decgraphH \n",
      "Entropy =  0.0880715330905 \n",
      "Cardinality =  5 \n",
      "Rate =  0.00993108140701\n",
      "Solution time in seconds =  8.621451298000466\n",
      "i=4, v=2.5999999999999996, variance=0.0003992022864084798\n",
      "\n",
      "Solver =  decgraphH \n",
      "Entropy =  0.0876183537907 \n",
      "Cardinality =  5 \n",
      "Rate =  0.00996855613041\n",
      "Solution time in seconds =  7.553766866003571\n",
      "i=5, v=2.9999999999999996, variance=0.00029510662777384685\n",
      "\n",
      "Solver =  decgraphH \n",
      "Entropy =  0.0875819731954 \n",
      "Cardinality =  5 \n",
      "Rate =  0.00997537759787\n",
      "Solution time in seconds =  6.902916482002183\n",
      "i=6, v=3.3999999999999995, variance=0.00021904262626147353\n",
      "\n",
      "Solver =  decgraphH \n",
      "Entropy =  0.0880200850279 \n",
      "Cardinality =  5 \n",
      "Rate =  0.00993378835792\n",
      "Solution time in seconds =  6.269592088996433\n",
      "i=7, v=3.7999999999999994, variance=0.00016342217508525902\n",
      "\n",
      "Solver =  decgraphH \n",
      "Entropy =  0.0819031634212 \n",
      "Cardinality =  3 \n",
      "Rate =  0.00997568739198\n",
      "Solution time in seconds =  5.017847791998065\n",
      "i=8, v=4.199999999999999, variance=0.00012283022010276069\n",
      "\n",
      "Solver =  decgraphH \n",
      "Entropy =  0.0749090631969 \n",
      "Cardinality =  2 \n",
      "Rate =  0.00988847705107\n",
      "Solution time in seconds =  4.4031996479970985\n",
      "i=9, v=4.6, variance=9.318826646923713e-05\n",
      "\n",
      "Solver =  decgraphH \n",
      "Entropy =  0.0752749374404 \n",
      "Cardinality =  2 \n",
      "Rate =  0.00981973363072\n",
      "Solution time in seconds =  3.9329536690056557\n"
     ]
    }
   ],
   "source": [
    "n = 50\n",
    "minvar = 1\n",
    "maxvar = 5\n",
    "varsteps = 10\n",
    "varrange = np.arange(minvar,maxvar,(maxvar-minvar)/varsteps)\n",
    "pdists = np.zeros((varsteps,n))\n",
    "\n",
    "def sample_f(f,srange,npoints):\n",
    "    ret = np.zeros(npoints)\n",
    "    dom = np.arange(srange[0],srange[1],(srange[1]-srange[0])/npoints)\n",
    "    for i in range(npoints):\n",
    "        ret[i] = f(dom[i])\n",
    "    return(ret)\n",
    "\n",
    "\n",
    "\n",
    "h = 2*varrange[-1]\n",
    "for i,v in zip(range(varsteps),varrange):\n",
    "    f = lambda x: np.exp(-(x**2)/(2*(v**2)))/(v*np.sqrt(2))\n",
    "    #f = lambda x: \n",
    "    s = sample_f(f,(-h,h),n)\n",
    "    pdists[i] = s/s.sum()\n",
    "    #print(v,s)\n",
    "#pdists[0]\n",
    "\n",
    "dataframes = {}\n",
    "for i,v in zip(range(varsteps),varrange):\n",
    "    dataframes[i] = BPV.Data(pd.DataFrame(pdists[i],columns=[\"p\"]))\n",
    "    dataframes[i].calculate_entropy()\n",
    "    dataframes[i].df.fillna(0,inplace=True)\n",
    "    dataframes[i].df.sort_index(by=\"p\",inplace=True,ascending=True)\n",
    "    #df.df.set_index(pd.Index([j for j in range(len(df.df))]), inplace=True)\n",
    "    #p = df.df['p']\n",
    "#dataframes[0].df\n",
    "\n",
    "N = n/10\n",
    "W=0.01\n",
    "#prbls = {}\n",
    "prblsP = {}\n",
    "for i,v in zip(range(varsteps),varrange):\n",
    "    #prbls[i] = BPV.BPV(\"decgraphH\",dataframes[i],N,W,time_solver=True)\n",
    "    #prbls[i].solve()\n",
    "    prblsP[i] = BPV.BPV(\"pulp\",dataframes[i],N,W,time_solver=True)\n",
    "    prblsP[i].solve()\n",
    "    \n",
    "    print(\"i={0}, v={1}, variance={2}\".format(i,v,pdists[i].var()))\n",
    "    prbls[i].pprint_solution()\n",
    "    "
   ]
  },
  {
   "cell_type": "code",
   "execution_count": 179,
   "metadata": {
    "collapsed": false
   },
   "outputs": [],
   "source": [
    "fig = plt.figure()\n",
    "for i,v in zip(range(varsteps),varrange):\n",
    "    plt.plot(pdists[i],label='sigma={:.2f}'.format(v))\n",
    "\n",
    "plt.legend()\n",
    "#plt.savefig(\"/home/renato/tesi/testo/img/an12-dists.pdf\")\n",
    "plt.show()"
   ]
  },
  {
   "cell_type": "code",
   "execution_count": 177,
   "metadata": {
    "collapsed": false
   },
   "outputs": [],
   "source": [
    "fig = plt.figure()\n",
    "entropies = []\n",
    "for i,v in zip(range(varsteps),varrange):\n",
    "    entropies.append(prbls[i].solution_entropy)\n",
    "    \n",
    "plt.plot(varrange,entropies)\n",
    "#plt.savefig(\"/home/renato/tesi/testo/img/an12-entropies.pdf\")\n",
    "plt.show()"
   ]
  },
  {
   "cell_type": "code",
   "execution_count": 181,
   "metadata": {
    "collapsed": false
   },
   "outputs": [],
   "source": [
    "fig = plt.figure()\n",
    "nnodes = []\n",
    "for i,v in zip(range(varsteps),varrange):\n",
    "    nnodes.append(prbls[i].nnodes)\n",
    "    \n",
    "plt.plot(varrange,nnodes)\n",
    "#plt.yscale('log')\n",
    "#plt.savefig(\"/home/renato/tesi/testo/img/an12-nnodes.pdf\")\n",
    "plt.show()"
   ]
  },
  {
   "cell_type": "code",
   "execution_count": 135,
   "metadata": {
    "collapsed": false
   },
   "outputs": [],
   "source": [
    "dataframes = {}\n",
    "for i,v in zip(range(varsteps),varrange):\n",
    "    dataframes[i] = BPV.Data(pd.DataFrame(pdists[i],columns=[\"p\"]))\n",
    "    dataframes[i].calculate_entropy()\n",
    "    dataframes[i].df.fillna(0,inplace=True)\n",
    "    dataframes[i].df.sort_index(by=\"p\",inplace=True,ascending=True)\n",
    "    #df.df.set_index(pd.Index([j for j in range(len(df.df))]), inplace=True)\n",
    "    #p = df.df['p']\n",
    "#dataframes[0].df"
   ]
  },
  {
   "cell_type": "code",
   "execution_count": 136,
   "metadata": {
    "collapsed": false,
    "scrolled": true
   },
   "outputs": [
    {
     "name": "stdout",
     "output_type": "stream",
     "text": [
      "i=0, v=1.0, variance=0.00041905441686393376\n",
      "\n",
      "Solver =  pulp \n",
      "Entropy =  0.3627001941782693 \n",
      "Cardinality =  10 \n",
      "Rate =  0.0487335601845\n",
      "Solution time in seconds =  0.06294202599383425\n",
      "i=1, v=1.4, variance=0.00027075315494208394\n",
      "\n",
      "Solver =  pulp \n",
      "Entropy =  0.372466657894367 \n",
      "Cardinality =  10 \n",
      "Rate =  0.0499723958179\n",
      "Solution time in seconds =  0.1869653269968694\n",
      "i=2, v=1.7999999999999998, variance=0.0001883637539671317\n",
      "\n",
      "Solver =  pulp \n",
      "Entropy =  0.37712772285002805 \n",
      "Cardinality =  10 \n",
      "Rate =  0.0499334608398\n",
      "Solution time in seconds =  0.07147676499880617\n",
      "i=3, v=2.1999999999999997, variance=0.00013594761752808667\n",
      "\n",
      "Solver =  pulp \n",
      "Entropy =  0.3786861747424209 \n",
      "Cardinality =  10 \n",
      "Rate =  0.0499088646549\n",
      "Solution time in seconds =  0.08158787599677453\n",
      "i=4, v=2.5999999999999996, variance=9.979788956882932e-05\n",
      "\n",
      "Solver =  pulp \n",
      "Entropy =  0.37939227815346516 \n",
      "Cardinality =  10 \n",
      "Rate =  0.0499379048459\n",
      "Solution time in seconds =  0.14955369399831397\n",
      "i=5, v=2.9999999999999996, variance=7.376949013236966e-05\n",
      "\n",
      "Solver =  pulp \n",
      "Entropy =  0.3806892125271811 \n",
      "Cardinality =  10 \n",
      "Rate =  0.0499647578802\n",
      "Solution time in seconds =  0.0968968750021304\n",
      "i=6, v=3.3999999999999995, variance=5.47484594477315e-05\n",
      "\n",
      "Solver =  pulp \n",
      "Entropy =  0.38091435457995015 \n",
      "Cardinality =  10 \n",
      "Rate =  0.0499750897693\n",
      "Solution time in seconds =  0.17178179600159638\n",
      "i=7, v=3.7999999999999994, variance=4.083954705284102e-05\n",
      "\n",
      "Solver =  pulp \n",
      "Entropy =  0.38085199836493716 \n",
      "Cardinality =  10 \n",
      "Rate =  0.0499918217254\n",
      "Solution time in seconds =  0.2660054790030699\n",
      "i=8, v=4.199999999999999, variance=3.068962728544437e-05\n",
      "\n",
      "Solver =  pulp \n",
      "Entropy =  0.38154604236545686 \n",
      "Cardinality =  10 \n",
      "Rate =  0.0499881927539\n",
      "Solution time in seconds =  0.09217027999693528\n",
      "i=9, v=4.6, variance=2.327884253261035e-05\n",
      "\n",
      "Solver =  pulp \n",
      "Entropy =  0.381640518500168 \n",
      "Cardinality =  10 \n",
      "Rate =  0.0499670735195\n",
      "Solution time in seconds =  0.19076131300244015\n"
     ]
    }
   ],
   "source": [
    "N = n/10\n",
    "W=0.05\n",
    "prbls = {}\n",
    "for i,v in zip(range(varsteps),varrange):\n",
    "    prbls[i] = BPV.BPV(\"pulp\",dataframes[i],N,W,time_solver=True)\n",
    "    prbls[i].solve()\n",
    "    \n",
    "    print(\"i={0}, v={1}, variance={2}\".format(i,v,pdists[i].var()))\n",
    "    #prbls[i].pprint_solution()\n",
    "    "
   ]
  }
 ],
 "metadata": {
  "kernelspec": {
   "display_name": "Python 3",
   "language": "python",
   "name": "python3"
  },
  "language_info": {
   "codemirror_mode": {
    "name": "ipython",
    "version": 3
   },
   "file_extension": ".py",
   "mimetype": "text/x-python",
   "name": "python",
   "nbconvert_exporter": "python",
   "pygments_lexer": "ipython3",
   "version": "3.4.3"
  }
 },
 "nbformat": 4,
 "nbformat_minor": 0
}
