{
 "cells": [
  {
   "cell_type": "code",
   "execution_count": 1,
   "metadata": {
    "collapsed": false
   },
   "outputs": [
    {
     "name": "stdout",
     "output_type": "stream",
     "text": [
      "The autoreload extension is already loaded. To reload it, use:\n",
      "  %reload_ext autoreload\n"
     ]
    }
   ],
   "source": [
    "%load_ext autoreload\n",
    "%autoreload 2\n",
    "import matplotlib\n",
    "#%matplotlib inline\n",
    "matplotlib.use('TkAgg')\n",
    "import BPV\n",
    "import pattern_manipulation as pm\n",
    "import numpy as np\n",
    "import matplotlib.pyplot as plt\n",
    "import pandas as pd\n",
    "import gc\n",
    "import pickle"
   ]
  },
  {
   "cell_type": "code",
   "execution_count": 2,
   "metadata": {
    "collapsed": false,
    "scrolled": true
   },
   "outputs": [
    {
     "name": "stdout",
     "output_type": "stream",
     "text": [
      "1.60522640976e-05 0.00520544414612\n"
     ]
    }
   ],
   "source": [
    "matplotlib.style.use('ggplot')\n",
    "n = 70\n",
    "#N=7\n",
    "#minW = N*0.0005\n",
    "#maxW = N*0.002\n",
    "#Wsteps = 10\n",
    "#Wvalues = np.arange(minW,maxW,(maxW-minW)/Wsteps)\n",
    "\n",
    "Wmin = 0.001\n",
    "Wmax = 0.01\n",
    "Wnsteps = 10\n",
    "Wstep = (Wmax - Wmin)/Wnsteps\n",
    "Wrange = np.arange(Wmin,Wmax,Wstep)\n",
    "\n",
    "Nmin = 3\n",
    "Nmax = 10\n",
    "Nnsteps = 10\n",
    "Nstep = (Nmax - Nmin)/Nnsteps\n",
    "Nrange = np.arange(Nmin,Nmax,Nstep, dtype='int')\n",
    "\n",
    "nproblems = Wnsteps*Nnsteps\n",
    "\n",
    "\n",
    "Hprbls1 = {}\n",
    "Wprbls1 = {}\n",
    "Hprbls2 = {}\n",
    "Wprbls2 = {}\n",
    "\n",
    "#colnames = []\n",
    "#for W in Wvalues:\n",
    "#    colnames.append('W=%.3f' % (W))\n",
    "df = BPV.Data()\n",
    "df.read_csv(\"pixel.dist.csv\",False)\n",
    "\n",
    "df.df.sort_index(by=\"p\",inplace=True,ascending=True)\n",
    "df.df.set_index(pd.Index([j for j in range(len(df.df))]), inplace=True)\n",
    "dfh1 = df.data_head(n)\n",
    "dfh1.df.set_index(pd.Index([j for j in range(len(dfh1.df))]), inplace=True)\n",
    "\n",
    "df.df.sort_index(by=\"p\",inplace=True,ascending=False)\n",
    "df.df.set_index(pd.Index([j for j in range(len(df.df))]), inplace=True)\n",
    "dfh2 = df.data_head(n)\n",
    "dfh2.df.set_index(pd.Index([j for j in range(len(dfh2.df))]), inplace=True)\n",
    "dfh2.df.sort_index(by=\"p\",inplace=True,ascending=True)\n",
    "\n",
    "p1 = dfh1.df['p']\n",
    "p2 = dfh2.df['p']\n",
    "print(p1.var(), p2.var())\n",
    "\n",
    "#dfh1.df\n",
    "#Wvalues\n",
    "#colnames"
   ]
  },
  {
   "cell_type": "code",
   "execution_count": 3,
   "metadata": {
    "collapsed": true
   },
   "outputs": [],
   "source": [
    "fig = plt.figure()\n",
    "plt.plot(p1,'r')\n",
    "plt.plot(p2,'b')\n",
    "plt.yscale('log')\n",
    "plt.show()"
   ]
  },
  {
   "cell_type": "code",
   "execution_count": 53,
   "metadata": {
    "collapsed": false,
    "scrolled": true
   },
   "outputs": [
    {
     "name": "stdout",
     "output_type": "stream",
     "text": [
      "\n",
      "\n",
      "-----------------------\n",
      "ITERATION 1/4 - W = 0.001 N = 3 - i = 0 j = 0\n",
      "\n",
      "Problem not solved\n",
      "Problem not solved\n"
     ]
    },
    {
     "ename": "KeyboardInterrupt",
     "evalue": "",
     "output_type": "error",
     "traceback": [
      "\u001b[1;31m---------------------------------------------------------------------------\u001b[0m",
      "\u001b[1;31mKeyboardInterrupt\u001b[0m                         Traceback (most recent call last)",
      "\u001b[1;32m<ipython-input-53-33a8a1b058c0>\u001b[0m in \u001b[0;36m<module>\u001b[1;34m()\u001b[0m\n\u001b[0;32m     26\u001b[0m \u001b[1;33m\u001b[0m\u001b[0m\n\u001b[0;32m     27\u001b[0m     \u001b[0mprbl_decH\u001b[0m \u001b[1;33m=\u001b[0m \u001b[0mBPV\u001b[0m\u001b[1;33m.\u001b[0m\u001b[0mBPV\u001b[0m\u001b[1;33m(\u001b[0m\u001b[1;34m\"decgraphH\"\u001b[0m\u001b[1;33m,\u001b[0m\u001b[0mdfh2\u001b[0m\u001b[1;33m,\u001b[0m\u001b[0mN\u001b[0m\u001b[1;33m,\u001b[0m\u001b[0mW\u001b[0m\u001b[1;33m,\u001b[0m\u001b[0mtime_solver\u001b[0m\u001b[1;33m=\u001b[0m\u001b[1;32mTrue\u001b[0m\u001b[1;33m)\u001b[0m\u001b[1;33m\u001b[0m\u001b[0m\n\u001b[1;32m---> 28\u001b[1;33m     \u001b[0mprbl_decH\u001b[0m\u001b[1;33m.\u001b[0m\u001b[0msolve\u001b[0m\u001b[1;33m(\u001b[0m\u001b[1;33m)\u001b[0m\u001b[1;33m\u001b[0m\u001b[0m\n\u001b[0m\u001b[0;32m     29\u001b[0m     \u001b[1;31m#cProfile.run('prbl.solve()',sort=1)\u001b[0m\u001b[1;33m\u001b[0m\u001b[1;33m\u001b[0m\u001b[0m\n\u001b[0;32m     30\u001b[0m     \u001b[0mprbl_decH\u001b[0m\u001b[1;33m.\u001b[0m\u001b[0mpprint_solution\u001b[0m\u001b[1;33m(\u001b[0m\u001b[1;33m)\u001b[0m\u001b[1;33m\u001b[0m\u001b[0m\n",
      "\u001b[1;32m/home/renato/Documents/Universita_/magistrale/tesi/code/notebooks/BPV.py\u001b[0m in \u001b[0;36msolve\u001b[1;34m(self)\u001b[0m\n\u001b[0;32m    320\u001b[0m     \u001b[1;32mdef\u001b[0m \u001b[0msolve\u001b[0m\u001b[1;33m(\u001b[0m\u001b[0mself\u001b[0m\u001b[1;33m)\u001b[0m\u001b[1;33m:\u001b[0m\u001b[1;33m\u001b[0m\u001b[0m\n\u001b[0;32m    321\u001b[0m         \u001b[1;32mif\u001b[0m \u001b[0mself\u001b[0m\u001b[1;33m.\u001b[0m\u001b[0mtime_solver\u001b[0m \u001b[1;33m==\u001b[0m \u001b[1;32mTrue\u001b[0m\u001b[1;33m:\u001b[0m\u001b[1;33m\u001b[0m\u001b[0m\n\u001b[1;32m--> 322\u001b[1;33m             \u001b[0mself\u001b[0m\u001b[1;33m.\u001b[0m\u001b[0msolution_time\u001b[0m \u001b[1;33m=\u001b[0m \u001b[0mtimeit\u001b[0m\u001b[1;33m.\u001b[0m\u001b[0mtimeit\u001b[0m\u001b[1;33m(\u001b[0m\u001b[0mself\u001b[0m\u001b[1;33m.\u001b[0m\u001b[0msolver\u001b[0m\u001b[1;33m,\u001b[0m\u001b[0mnumber\u001b[0m\u001b[1;33m=\u001b[0m\u001b[1;36m1\u001b[0m\u001b[1;33m)\u001b[0m\u001b[1;33m\u001b[0m\u001b[0m\n\u001b[0m\u001b[0;32m    323\u001b[0m         \u001b[1;32melse\u001b[0m\u001b[1;33m:\u001b[0m\u001b[1;33m\u001b[0m\u001b[0m\n\u001b[0;32m    324\u001b[0m             \u001b[0mself\u001b[0m\u001b[1;33m.\u001b[0m\u001b[0msolver\u001b[0m\u001b[1;33m(\u001b[0m\u001b[1;33m)\u001b[0m\u001b[1;33m\u001b[0m\u001b[0m\n",
      "\u001b[1;32m/opt/anaconda/lib/python3.4/timeit.py\u001b[0m in \u001b[0;36mtimeit\u001b[1;34m(stmt, setup, timer, number)\u001b[0m\n\u001b[0;32m    217\u001b[0m            number=default_number):\n\u001b[0;32m    218\u001b[0m     \u001b[1;34m\"\"\"Convenience function to create Timer object and call timeit method.\"\"\"\u001b[0m\u001b[1;33m\u001b[0m\u001b[0m\n\u001b[1;32m--> 219\u001b[1;33m     \u001b[1;32mreturn\u001b[0m \u001b[0mTimer\u001b[0m\u001b[1;33m(\u001b[0m\u001b[0mstmt\u001b[0m\u001b[1;33m,\u001b[0m \u001b[0msetup\u001b[0m\u001b[1;33m,\u001b[0m \u001b[0mtimer\u001b[0m\u001b[1;33m)\u001b[0m\u001b[1;33m.\u001b[0m\u001b[0mtimeit\u001b[0m\u001b[1;33m(\u001b[0m\u001b[0mnumber\u001b[0m\u001b[1;33m)\u001b[0m\u001b[1;33m\u001b[0m\u001b[0m\n\u001b[0m\u001b[0;32m    220\u001b[0m \u001b[1;33m\u001b[0m\u001b[0m\n\u001b[0;32m    221\u001b[0m def repeat(stmt=\"pass\", setup=\"pass\", timer=default_timer,\n",
      "\u001b[1;32m/opt/anaconda/lib/python3.4/timeit.py\u001b[0m in \u001b[0;36mtimeit\u001b[1;34m(self, number)\u001b[0m\n\u001b[0;32m    182\u001b[0m         \u001b[0mgc\u001b[0m\u001b[1;33m.\u001b[0m\u001b[0mdisable\u001b[0m\u001b[1;33m(\u001b[0m\u001b[1;33m)\u001b[0m\u001b[1;33m\u001b[0m\u001b[0m\n\u001b[0;32m    183\u001b[0m         \u001b[1;32mtry\u001b[0m\u001b[1;33m:\u001b[0m\u001b[1;33m\u001b[0m\u001b[0m\n\u001b[1;32m--> 184\u001b[1;33m             \u001b[0mtiming\u001b[0m \u001b[1;33m=\u001b[0m \u001b[0mself\u001b[0m\u001b[1;33m.\u001b[0m\u001b[0minner\u001b[0m\u001b[1;33m(\u001b[0m\u001b[0mit\u001b[0m\u001b[1;33m,\u001b[0m \u001b[0mself\u001b[0m\u001b[1;33m.\u001b[0m\u001b[0mtimer\u001b[0m\u001b[1;33m)\u001b[0m\u001b[1;33m\u001b[0m\u001b[0m\n\u001b[0m\u001b[0;32m    185\u001b[0m         \u001b[1;32mfinally\u001b[0m\u001b[1;33m:\u001b[0m\u001b[1;33m\u001b[0m\u001b[0m\n\u001b[0;32m    186\u001b[0m             \u001b[1;32mif\u001b[0m \u001b[0mgcold\u001b[0m\u001b[1;33m:\u001b[0m\u001b[1;33m\u001b[0m\u001b[0m\n",
      "\u001b[1;32m/opt/anaconda/lib/python3.4/timeit.py\u001b[0m in \u001b[0;36minner\u001b[1;34m(_it, _timer, _func)\u001b[0m\n\u001b[0;32m     84\u001b[0m         \u001b[0m_t0\u001b[0m \u001b[1;33m=\u001b[0m \u001b[0m_timer\u001b[0m\u001b[1;33m(\u001b[0m\u001b[1;33m)\u001b[0m\u001b[1;33m\u001b[0m\u001b[0m\n\u001b[0;32m     85\u001b[0m         \u001b[1;32mfor\u001b[0m \u001b[0m_i\u001b[0m \u001b[1;32min\u001b[0m \u001b[0m_it\u001b[0m\u001b[1;33m:\u001b[0m\u001b[1;33m\u001b[0m\u001b[0m\n\u001b[1;32m---> 86\u001b[1;33m             \u001b[0m_func\u001b[0m\u001b[1;33m(\u001b[0m\u001b[1;33m)\u001b[0m\u001b[1;33m\u001b[0m\u001b[0m\n\u001b[0m\u001b[0;32m     87\u001b[0m         \u001b[0m_t1\u001b[0m \u001b[1;33m=\u001b[0m \u001b[0m_timer\u001b[0m\u001b[1;33m(\u001b[0m\u001b[1;33m)\u001b[0m\u001b[1;33m\u001b[0m\u001b[0m\n\u001b[0;32m     88\u001b[0m         \u001b[1;32mreturn\u001b[0m \u001b[0m_t1\u001b[0m \u001b[1;33m-\u001b[0m \u001b[0m_t0\u001b[0m\u001b[1;33m\u001b[0m\u001b[0m\n",
      "\u001b[1;32m/home/renato/Documents/Universita_/magistrale/tesi/code/notebooks/BPV.py\u001b[0m in \u001b[0;36mdecgraphH_solver\u001b[1;34m(self)\u001b[0m\n\u001b[0;32m    622\u001b[0m                 \u001b[0mself\u001b[0m\u001b[1;33m.\u001b[0m\u001b[0mcur_nodes_dict\u001b[0m \u001b[1;33m=\u001b[0m \u001b[0mself\u001b[0m\u001b[1;33m.\u001b[0m\u001b[0mnext_nodes_dict\u001b[0m\u001b[1;33m\u001b[0m\u001b[0m\n\u001b[0;32m    623\u001b[0m                 \u001b[0mself\u001b[0m\u001b[1;33m.\u001b[0m\u001b[0mnext_nodes_dict\u001b[0m \u001b[1;33m=\u001b[0m \u001b[1;33m{\u001b[0m\u001b[1;33m}\u001b[0m\u001b[1;33m\u001b[0m\u001b[0m\n\u001b[1;32m--> 624\u001b[1;33m                 \u001b[0mgc\u001b[0m\u001b[1;33m.\u001b[0m\u001b[0mcollect\u001b[0m\u001b[1;33m(\u001b[0m\u001b[1;33m)\u001b[0m\u001b[1;33m\u001b[0m\u001b[0m\n\u001b[0m\u001b[0;32m    625\u001b[0m \u001b[1;33m\u001b[0m\u001b[0m\n\u001b[0;32m    626\u001b[0m         \u001b[0mself\u001b[0m\u001b[1;33m.\u001b[0m\u001b[0mselected_solution\u001b[0m \u001b[1;33m=\u001b[0m \u001b[1;36m0\u001b[0m\u001b[1;33m\u001b[0m\u001b[0m\n",
      "\u001b[1;31mKeyboardInterrupt\u001b[0m: "
     ]
    }
   ],
   "source": [
    "firstiter = True\n",
    "it = 1\n",
    "#for W,col in zip(Wvalues,colnames):\n",
    "for i,j in [(x,y) for x in range(Wnsteps) for y in range(Nnsteps)]:\n",
    "    W = Wrange[i]\n",
    "    N = Nrange[j]    \n",
    "    print(\"\\n\\n-----------------------\\nITERATION {0}/{1} - W = {2} N = {3} - i = {4} j = {5}\\n\"\\\n",
    "          .format(it,nproblems,W,N,i,j))\n",
    "    \n",
    "    #prbl_pulp = BPV.BPV(\"pulp\",dfh1,N,W,time_solver=True)\n",
    "    #prbl_pulp.solve()\n",
    "    #prbl_pulp.pprint_solution()\n",
    "\n",
    "    prbl_decH = BPV.BPV(\"decgraphH\",dfh1,N,W,time_solver=True)\n",
    "    prbl_decH.solve()\n",
    "    #cProfile.run('prbl.solve()',sort=1)\n",
    "    prbl_decH.pprint_solution()\n",
    "    del prbl_decH.predecessor\n",
    "    Hprbls1[i,j] = prbl_decH\n",
    "    \n",
    "    prbl_decW = BPV.BPV(\"decgraphW\",dfh1,N,W,time_solver=True)\n",
    "    prbl_decW.solve()\n",
    "    #cProfile.run('prbl.solve()',sort=1)\n",
    "    prbl_decW.pprint_solution()\n",
    "    del prbl_decW.predecessor\n",
    "    Wprbls1[i,j] = prbl_decW\n",
    "    \n",
    "    prbl_decH = BPV.BPV(\"decgraphH\",dfh2,N,W,time_solver=True)\n",
    "    prbl_decH.solve()\n",
    "    #cProfile.run('prbl.solve()',sort=1)\n",
    "    prbl_decH.pprint_solution()\n",
    "    del prbl_decH.predecessor\n",
    "    Hprbls2[i,j] = prbl_decH\n",
    "    \n",
    "    prbl_decW = BPV.BPV(\"decgraphW\",dfh2,N,W,time_solver=True)\n",
    "    prbl_decW.solve()\n",
    "    #cProfile.run('prbl.solve()',sort=1)\n",
    "    prbl_decW.pprint_solution()\n",
    "    del prbl_decW.predecessor\n",
    "    Wprbls2[i,j] = prbl_decW\n",
    "    \n",
    "    gc.collect()\n",
    "    it+=1\n"
   ]
  },
  {
   "cell_type": "code",
   "execution_count": 51,
   "metadata": {
    "collapsed": false
   },
   "outputs": [
    {
     "name": "stdout",
     "output_type": "stream",
     "text": [
      "Problem not solved\n"
     ]
    },
    {
     "data": {
      "text/plain": [
       "(0.001, 3)"
      ]
     },
     "execution_count": 51,
     "metadata": {},
     "output_type": "execute_result"
    }
   ],
   "source": [
    "\n",
    "W = Wrange[0]\n",
    "N = Nrange[0]\n",
    "prbl_decH = BPV.BPV(\"decgraphH\",dfh1,N,W,time_solver=True)\n",
    "prbl_decH.solve()\n",
    "#cProfile.run('prbl.solve()',sort=1)\n",
    "prbl_decH.pprint_solution()\n",
    "W,N"
   ]
  },
  {
   "cell_type": "code",
   "execution_count": 20,
   "metadata": {
    "collapsed": false
   },
   "outputs": [],
   "source": [
    "#SAVE \n",
    "\n",
    "fH1 = open(\"/home/renato/tesi/code/data/plot2.Hprbls1\",r'wb')\n",
    "fW1 = open(\"/home/renato/tesi/code/data/plot2.Wprbls1\",r'wb')\n",
    "fH2 = open(\"/home/renato/tesi/code/data/plot2.Hprbls2\",r'wb')\n",
    "fW2 = open(\"/home/renato/tesi/code/data/plot2.Wprbls2\",r'wb')\n",
    "pickle.dump(Hprbls1,fH1)\n",
    "pickle.dump(Wprbls1,fW1)\n",
    "pickle.dump(Hprbls2,fH2)\n",
    "pickle.dump(Wprbls2,fW2)\n"
   ]
  },
  {
   "cell_type": "code",
   "execution_count": 54,
   "metadata": {
    "collapsed": true
   },
   "outputs": [],
   "source": [
    "#LOAD\n",
    "\n",
    "fH1 = open(\"/home/renato/tesi/code/data/plot2.Hprbls1\",r'rb')\n",
    "fW1 = open(\"/home/renato/tesi/code/data/plot2.Wprbls1\",r'rb')\n",
    "fH2 = open(\"/home/renato/tesi/code/data/plot2.Hprbls2\",r'rb')\n",
    "fW2 = open(\"/home/renato/tesi/code/data/plot2.Wprbls2\",r'rb')\n",
    "Hprbls1 = pickle.load(fH1)\n",
    "Wprbls1 = pickle.load(fW1)\n",
    "Hprbls2 = pickle.load(fH2)\n",
    "Wprbls2 = pickle.load(fW2)\n"
   ]
  },
  {
   "cell_type": "code",
   "execution_count": 55,
   "metadata": {
    "collapsed": false
   },
   "outputs": [
    {
     "name": "stdout",
     "output_type": "stream",
     "text": [
      "0 0\n",
      "Problem not solved\n",
      "0 1\n",
      "Problem not solved\n",
      "1 0\n",
      "Problem not solved\n",
      "1 1\n",
      "Problem not solved\n"
     ]
    }
   ],
   "source": [
    "entropies1 = np.zeros((Wnsteps, Nnsteps))\n",
    "#rates1 = np.zeros((Wnsteps, Nnsteps))\n",
    "#cardinalities1 = np.zeros((Wnsteps, Nnsteps), dtype='int')\n",
    "times1 = np.zeros((Wnsteps, Nnsteps))\n",
    "nnodes1 = np.zeros((Wnsteps,Nnsteps))\n",
    "indexes1 = {}\n",
    "\n",
    "entropies2 = np.zeros((Wnsteps, Nnsteps))\n",
    "#rates2 = np.zeros((Wnsteps, Nnsteps))\n",
    "#cardinalities2 = np.zeros((Wnsteps, Nnsteps), dtype='int')\n",
    "times2 = np.zeros((Wnsteps, Nnsteps))\n",
    "nnodes2 = np.zeros((Wnsteps,Nnsteps))\n",
    "indexes2 = {}\n",
    "\n",
    "it = 1\n",
    "for i,j in [(x,y) for x in range(Wnsteps) for y in range(Nnsteps)]:\n",
    "    #entropies1[i,j] = Hprbls1[i,j].solution_entropy\n",
    "    print(i,j)\n",
    "    Wprbls1[i,j].pprint_solution()"
   ]
  },
  {
   "cell_type": "code",
   "execution_count": 13,
   "metadata": {
    "collapsed": false
   },
   "outputs": [],
   "source": [
    "matplotlib.style.use('ggplot')\n",
    "#plt.rcdefaults()\n",
    "\n",
    "label_size = 16\n",
    "ms = 2\n",
    "_dpi = 250\n",
    "#plt.ylim((-100,int(10e5)))\n",
    "ax = plt.gca()\n",
    "ax.set_yscale('log')\n",
    "plt.rc('text', usetex=True)\n",
    "plt.rc('font', family='serif')\n",
    "plt.plot(Wvalues[:len(Hnnodes)],Hnnodes,'rx-',label='H solver',markeredgewidth=ms)\n",
    "plt.plot(Wvalues[:len(Wnnodes)],Wnnodes,'gx-',label='W solver',markeredgewidth=ms)\n",
    "plt.legend(loc=2)\n",
    "plt.xlabel(r'$W$',fontsize=label_size)\n",
    "plt.ylabel(r'number of nodes',rotation='vertical', fontsize=label_size, horizontalalignment='right')\n",
    "#plt.savefig(\"/home/renato/tesi/testogit/img/nnodesW.pdf\",dpi=_dpi,bbox_inches='tight')\n",
    "plt.show()"
   ]
  },
  {
   "cell_type": "code",
   "execution_count": 10,
   "metadata": {
    "collapsed": false
   },
   "outputs": [],
   "source": [
    "Hnnodes = []\n",
    "Hvisitlist = {}\n",
    "Wnnodes = []\n",
    "Wvisitlist = {}\n",
    "for k,v in Hprbls.items():\n",
    "    Hnnodes.append(v.nnodes)\n",
    "    Hvisitlist[k] = v.decgraph_len_visitlist\n",
    "Hnnodes.sort()\n",
    "\n",
    "for k,v in Wprbls.items():\n",
    "    Wnnodes.append(v.nnodes)\n",
    "    Wvisitlist[k] = v.decgraph_len_visitlist\n",
    "Wnnodes.sort()\n",
    "#print(Hnnodes,Wnnodes)\n"
   ]
  },
  {
   "cell_type": "code",
   "execution_count": 14,
   "metadata": {
    "collapsed": false
   },
   "outputs": [],
   "source": [
    "#LENVISITLIST 1\n",
    "\n",
    "fig = plt.figure(figsize=(10,10))\n",
    "ax = plt.gca()\n",
    "_dpi = 200\n",
    "fig.dpi = _dpi\n",
    "label_size = 16\n",
    "plt.rc('text', usetex=True)\n",
    "plt.rc('font', family='serif')\n",
    "trange = np.arange(0,20,1,'int')\n",
    "\n",
    "plt.subplot(2, 1, 1)\n",
    "maxlen=0\n",
    "for vl in Wvisitlist.values():\n",
    "    maxlen = max(maxlen, max(vl))\n",
    "\n",
    "    \n",
    "plt.ylim((0,maxlen*1.1))\n",
    "plt.yscale('linear')\n",
    "plt.plot(trange,2**trange,'k',label='$2^k$')\n",
    "#plt.plot(trange,trange**3,'k--',label='$k^3$')\n",
    "for W,vl in Hvisitlist.items():\n",
    "    #ax.set_yscale('log')\n",
    "    plt.plot(vl,label='$'+str(W)+'$')\n",
    "    plt.legend(loc=1)\n",
    "plt.xlabel(r'$k$',fontsize=label_size)\n",
    "plt.ylabel(r'$|M_k^{\\mathcal{H}}|$',rotation='vertical', fontsize=label_size, horizontalalignment='right')\n",
    "\n",
    "plt.subplot(2, 1, 2)\n",
    "maxlen=0\n",
    "\n",
    "\n",
    "for vl in Wvisitlist.values():\n",
    "    maxlen = max(maxlen, max(vl))\n",
    "\n",
    "plt.ylim((0,maxlen*1.1))\n",
    "plt.yscale('linear')\n",
    "plt.plot(trange,2**trange,'k',label='$2^k$')\n",
    "#plt.plot(trange,trange**3,'k--',label='$k^3$')\n",
    "for W,vl in Wvisitlist.items():\n",
    "    #ax.set_yscale('log')\n",
    "    plt.plot(vl, label='$'+str(W)+'$')\n",
    "    plt.legend(loc=1)\n",
    "plt.xlabel(r'$k$',fontsize=label_size)\n",
    "plt.ylabel(r'$|M_k^{\\mathcal{W}}|$',rotation='vertical', fontsize=label_size, horizontalalignment='right')\n",
    "\n",
    "plt.tight_layout()\n",
    "#plt.savefig(\"/home/renato/tesi/testogit/img/bpv-lenvisitlist.pdf\",dpi=_dpi,bbox_inches='tight')\n",
    "plt.show()"
   ]
  }
 ],
 "metadata": {
  "kernelspec": {
   "display_name": "Python 3",
   "language": "python",
   "name": "python3"
  },
  "language_info": {
   "codemirror_mode": {
    "name": "ipython",
    "version": 3
   },
   "file_extension": ".py",
   "mimetype": "text/x-python",
   "name": "python",
   "nbconvert_exporter": "python",
   "pygments_lexer": "ipython3",
   "version": "3.4.3"
  }
 },
 "nbformat": 4,
 "nbformat_minor": 0
}
