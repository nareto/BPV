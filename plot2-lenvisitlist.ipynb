{
 "cells": [
  {
   "cell_type": "code",
   "execution_count": 1,
   "metadata": {
    "collapsed": false
   },
   "outputs": [
    {
     "name": "stdout",
     "output_type": "stream",
     "text": [
      "The autoreload extension is already loaded. To reload it, use:\n",
      "  %reload_ext autoreload\n"
     ]
    }
   ],
   "source": [
    "%load_ext autoreload\n",
    "%autoreload 2\n",
    "import matplotlib\n",
    "%matplotlib inline\n",
    "#matplotlib.use('TkAgg')\n",
    "import BPV\n",
    "import pattern_manipulation as pm\n",
    "import numpy as np\n",
    "import matplotlib.pyplot as plt\n",
    "import pandas as pd"
   ]
  },
  {
   "cell_type": "code",
   "execution_count": 11,
   "metadata": {
    "collapsed": false,
    "scrolled": true
   },
   "outputs": [],
   "source": [
    "n = 100\n",
    "N=15\n",
    "#Wvalues = [0.005,0.008,0.01,0.012,0.015,0.02, 0.025]\n",
    "#Wvalues = [0.005]\n",
    "minW = 0.005\n",
    "maxW = 0.025\n",
    "Wsteps = 10\n",
    "Wvalues = np.arange(minW,maxW,(maxW-minW)/Wsteps)\n",
    "\n",
    "colnames = []\n",
    "for W in Wvalues:\n",
    "    colnames.append('W={0}'.format(W))\n",
    "df = BPV.Data()\n",
    "df.read_csv(\"p.delviva.csv\",False)\n",
    "df.df.sort_index(by=\"p\",inplace=True,ascending=True)\n",
    "df.df.set_index(pd.Index([j for j in range(len(df.df))]), inplace=True)\n",
    "df = df.data_head(n)\n",
    "#df.df"
   ]
  },
  {
   "cell_type": "code",
   "execution_count": 10,
   "metadata": {
    "collapsed": false,
    "scrolled": true
   },
   "outputs": [
    {
     "name": "stdout",
     "output_type": "stream",
     "text": [
      "Solution for W=0.005\n",
      "-----------------------------------\n",
      "14\n",
      "Solution for W=0.007\n",
      "-----------------------------------\n",
      "31\n",
      "100\n",
      "Solution for W=0.009000000000000001\n",
      "-----------------------------------\n",
      "47\n",
      "100\n",
      "Solution for W=0.011\n",
      "-----------------------------------\n",
      "61\n",
      "100\n",
      "Solution for W=0.013000000000000001\n",
      "-----------------------------------\n",
      "72\n",
      "100\n",
      "Solution for W=0.015\n",
      "-----------------------------------\n",
      "89\n",
      "100\n",
      "Solution for W=0.017\n",
      "-----------------------------------\n",
      "99\n",
      "100\n",
      "Solution for W=0.019\n",
      "-----------------------------------\n",
      "102\n",
      "102\n"
     ]
    },
    {
     "ename": "ValueError",
     "evalue": "Length of values does not match length of index",
     "output_type": "error",
     "traceback": [
      "\u001b[1;31m---------------------------------------------------------------------------\u001b[0m",
      "\u001b[1;31mValueError\u001b[0m                                Traceback (most recent call last)",
      "\u001b[1;32m<ipython-input-10-f7351eb6870d>\u001b[0m in \u001b[0;36m<module>\u001b[1;34m()\u001b[0m\n\u001b[0;32m     32\u001b[0m     \u001b[1;32melse\u001b[0m\u001b[1;33m:\u001b[0m\u001b[1;33m\u001b[0m\u001b[0m\n\u001b[0;32m     33\u001b[0m         \u001b[0mprint\u001b[0m\u001b[1;33m(\u001b[0m\u001b[0mlen\u001b[0m\u001b[1;33m(\u001b[0m\u001b[0mdec_visitlistH\u001b[0m\u001b[1;33m)\u001b[0m\u001b[1;33m)\u001b[0m\u001b[1;33m\u001b[0m\u001b[0m\n\u001b[1;32m---> 34\u001b[1;33m         \u001b[0mvisitlistH\u001b[0m\u001b[1;33m[\u001b[0m\u001b[0mcol\u001b[0m\u001b[1;33m]\u001b[0m \u001b[1;33m=\u001b[0m \u001b[0mdec_visitlistH\u001b[0m\u001b[1;33m\u001b[0m\u001b[0m\n\u001b[0m\u001b[0;32m     35\u001b[0m         \u001b[0mvisitlistW\u001b[0m\u001b[1;33m[\u001b[0m\u001b[0mcol\u001b[0m\u001b[1;33m]\u001b[0m \u001b[1;33m=\u001b[0m \u001b[0mdec_visitlistW\u001b[0m\u001b[1;33m\u001b[0m\u001b[0m\n\u001b[0;32m     36\u001b[0m \u001b[1;33m\u001b[0m\u001b[0m\n",
      "\u001b[1;32m/opt/anaconda/lib/python3.4/site-packages/pandas/core/frame.py\u001b[0m in \u001b[0;36m__setitem__\u001b[1;34m(self, key, value)\u001b[0m\n\u001b[0;32m   2119\u001b[0m         \u001b[1;32melse\u001b[0m\u001b[1;33m:\u001b[0m\u001b[1;33m\u001b[0m\u001b[0m\n\u001b[0;32m   2120\u001b[0m             \u001b[1;31m# set column\u001b[0m\u001b[1;33m\u001b[0m\u001b[1;33m\u001b[0m\u001b[0m\n\u001b[1;32m-> 2121\u001b[1;33m             \u001b[0mself\u001b[0m\u001b[1;33m.\u001b[0m\u001b[0m_set_item\u001b[0m\u001b[1;33m(\u001b[0m\u001b[0mkey\u001b[0m\u001b[1;33m,\u001b[0m \u001b[0mvalue\u001b[0m\u001b[1;33m)\u001b[0m\u001b[1;33m\u001b[0m\u001b[0m\n\u001b[0m\u001b[0;32m   2122\u001b[0m \u001b[1;33m\u001b[0m\u001b[0m\n\u001b[0;32m   2123\u001b[0m     \u001b[1;32mdef\u001b[0m \u001b[0m_setitem_slice\u001b[0m\u001b[1;33m(\u001b[0m\u001b[0mself\u001b[0m\u001b[1;33m,\u001b[0m \u001b[0mkey\u001b[0m\u001b[1;33m,\u001b[0m \u001b[0mvalue\u001b[0m\u001b[1;33m)\u001b[0m\u001b[1;33m:\u001b[0m\u001b[1;33m\u001b[0m\u001b[0m\n",
      "\u001b[1;32m/opt/anaconda/lib/python3.4/site-packages/pandas/core/frame.py\u001b[0m in \u001b[0;36m_set_item\u001b[1;34m(self, key, value)\u001b[0m\n\u001b[0;32m   2196\u001b[0m \u001b[1;33m\u001b[0m\u001b[0m\n\u001b[0;32m   2197\u001b[0m         \u001b[0mself\u001b[0m\u001b[1;33m.\u001b[0m\u001b[0m_ensure_valid_index\u001b[0m\u001b[1;33m(\u001b[0m\u001b[0mvalue\u001b[0m\u001b[1;33m)\u001b[0m\u001b[1;33m\u001b[0m\u001b[0m\n\u001b[1;32m-> 2198\u001b[1;33m         \u001b[0mvalue\u001b[0m \u001b[1;33m=\u001b[0m \u001b[0mself\u001b[0m\u001b[1;33m.\u001b[0m\u001b[0m_sanitize_column\u001b[0m\u001b[1;33m(\u001b[0m\u001b[0mkey\u001b[0m\u001b[1;33m,\u001b[0m \u001b[0mvalue\u001b[0m\u001b[1;33m)\u001b[0m\u001b[1;33m\u001b[0m\u001b[0m\n\u001b[0m\u001b[0;32m   2199\u001b[0m         \u001b[0mNDFrame\u001b[0m\u001b[1;33m.\u001b[0m\u001b[0m_set_item\u001b[0m\u001b[1;33m(\u001b[0m\u001b[0mself\u001b[0m\u001b[1;33m,\u001b[0m \u001b[0mkey\u001b[0m\u001b[1;33m,\u001b[0m \u001b[0mvalue\u001b[0m\u001b[1;33m)\u001b[0m\u001b[1;33m\u001b[0m\u001b[0m\n\u001b[0;32m   2200\u001b[0m \u001b[1;33m\u001b[0m\u001b[0m\n",
      "\u001b[1;32m/opt/anaconda/lib/python3.4/site-packages/pandas/core/frame.py\u001b[0m in \u001b[0;36m_sanitize_column\u001b[1;34m(self, key, value)\u001b[0m\n\u001b[0;32m   2354\u001b[0m \u001b[1;33m\u001b[0m\u001b[0m\n\u001b[0;32m   2355\u001b[0m             \u001b[1;31m# turn me into an ndarray\u001b[0m\u001b[1;33m\u001b[0m\u001b[1;33m\u001b[0m\u001b[0m\n\u001b[1;32m-> 2356\u001b[1;33m             \u001b[0mvalue\u001b[0m \u001b[1;33m=\u001b[0m \u001b[0m_sanitize_index\u001b[0m\u001b[1;33m(\u001b[0m\u001b[0mvalue\u001b[0m\u001b[1;33m,\u001b[0m \u001b[0mself\u001b[0m\u001b[1;33m.\u001b[0m\u001b[0mindex\u001b[0m\u001b[1;33m,\u001b[0m \u001b[0mcopy\u001b[0m\u001b[1;33m=\u001b[0m\u001b[1;32mFalse\u001b[0m\u001b[1;33m)\u001b[0m\u001b[1;33m\u001b[0m\u001b[0m\n\u001b[0m\u001b[0;32m   2357\u001b[0m             \u001b[1;32mif\u001b[0m \u001b[1;32mnot\u001b[0m \u001b[0misinstance\u001b[0m\u001b[1;33m(\u001b[0m\u001b[0mvalue\u001b[0m\u001b[1;33m,\u001b[0m \u001b[1;33m(\u001b[0m\u001b[0mnp\u001b[0m\u001b[1;33m.\u001b[0m\u001b[0mndarray\u001b[0m\u001b[1;33m,\u001b[0m \u001b[0mIndex\u001b[0m\u001b[1;33m)\u001b[0m\u001b[1;33m)\u001b[0m\u001b[1;33m:\u001b[0m\u001b[1;33m\u001b[0m\u001b[0m\n\u001b[0;32m   2358\u001b[0m                 \u001b[1;32mif\u001b[0m \u001b[0misinstance\u001b[0m\u001b[1;33m(\u001b[0m\u001b[0mvalue\u001b[0m\u001b[1;33m,\u001b[0m \u001b[0mlist\u001b[0m\u001b[1;33m)\u001b[0m \u001b[1;32mand\u001b[0m \u001b[0mlen\u001b[0m\u001b[1;33m(\u001b[0m\u001b[0mvalue\u001b[0m\u001b[1;33m)\u001b[0m \u001b[1;33m>\u001b[0m \u001b[1;36m0\u001b[0m\u001b[1;33m:\u001b[0m\u001b[1;33m\u001b[0m\u001b[0m\n",
      "\u001b[1;32m/opt/anaconda/lib/python3.4/site-packages/pandas/core/series.py\u001b[0m in \u001b[0;36m_sanitize_index\u001b[1;34m(data, index, copy)\u001b[0m\n\u001b[0;32m   2570\u001b[0m \u001b[1;33m\u001b[0m\u001b[0m\n\u001b[0;32m   2571\u001b[0m     \u001b[1;32mif\u001b[0m \u001b[0mlen\u001b[0m\u001b[1;33m(\u001b[0m\u001b[0mdata\u001b[0m\u001b[1;33m)\u001b[0m \u001b[1;33m!=\u001b[0m \u001b[0mlen\u001b[0m\u001b[1;33m(\u001b[0m\u001b[0mindex\u001b[0m\u001b[1;33m)\u001b[0m\u001b[1;33m:\u001b[0m\u001b[1;33m\u001b[0m\u001b[0m\n\u001b[1;32m-> 2572\u001b[1;33m         raise ValueError('Length of values does not match length of '\n\u001b[0m\u001b[0;32m   2573\u001b[0m                          'index')\n\u001b[0;32m   2574\u001b[0m \u001b[1;33m\u001b[0m\u001b[0m\n",
      "\u001b[1;31mValueError\u001b[0m: Length of values does not match length of index"
     ]
    }
   ],
   "source": [
    "firstiter = True\n",
    "for W,col in zip(Wvalues,colnames):\n",
    "    print(\"Solution for W={0}\".format(W))\n",
    "    \n",
    "    prbl_pulp = BPV.BPV(\"pulp\",df,N,W,time_solver=False)\n",
    "    prbl_pulp.solve()\n",
    "    #prbl_pulp.pprint_solution()\n",
    "\n",
    "    prbl_decH = BPV.BPV(\"decgraphH\",df,N,W,time_solver=False)\n",
    "    prbl_decH.solve()\n",
    "    #cProfile.run('prbl.solve()',sort=1)\n",
    "    #prbl_decH.pprint_solution()\n",
    "    \n",
    "    prbl_decW = BPV.BPV(\"decgraphW\",df,N,W,time_solver=False)\n",
    "    prbl_decW.solve()\n",
    "    #cProfile.run('prbl.solve()',sort=1)\n",
    "    #prbl_decW.pprint_solution()\n",
    "    \n",
    "    print(\"-----------------------------------\")\n",
    "    dec_visitlistH = prbl_decH.decgraph_len_visitlist\n",
    "    dec_visitlistW = prbl_decW.decgraph_len_visitlist\n",
    "\n",
    "    print(len(dec_visitlistH))\n",
    "    for i in range(n, len(dec_visitlistH),-1):\n",
    "        dec_visitlistH.append(0)\n",
    "    for i in range(n, len(dec_visitlistW),-1):\n",
    "        dec_visitlistW.append(0)\n",
    "    if firstiter:\n",
    "        visitlistH=pd.DataFrame(dec_visitlistH, columns=[col])\n",
    "        visitlistW=pd.DataFrame(dec_visitlistW, columns=[col])\n",
    "        firstiter = False\n",
    "    else:\n",
    "        print(len(dec_visitlistH))\n",
    "        visitlistH[col] = dec_visitlistH\n",
    "        visitlistW[col] = dec_visitlistW\n",
    "        \n",
    "visitlistH.to_pickle(\"/home/renato/tesi/code/plot2-lenvisitlist.visitlistH.pickle\")\n",
    "visitlistW.to_pickle(\"/home/renato/tesi/code/plot2-lenvisitlist.visitlistW.pickle\")"
   ]
  },
  {
   "cell_type": "code",
   "execution_count": 6,
   "metadata": {
    "collapsed": false,
    "scrolled": true
   },
   "outputs": [
    {
     "name": "stdout",
     "output_type": "stream",
     "text": [
      "    W=0.005\n",
      "0         1\n",
      "1         2\n",
      "2         2\n",
      "3         2\n",
      "4         2\n",
      "5         2\n",
      "6         2\n",
      "7         2\n",
      "8         2\n",
      "9         2\n",
      "10        2\n",
      "11        2\n",
      "12        2\n",
      "13        0\n",
      "14        0\n",
      "15        0\n",
      "16        0\n",
      "17        0\n",
      "18        0\n",
      "19        0\n",
      "20        0\n",
      "21        0\n",
      "22        0\n",
      "23        0\n",
      "24        0\n",
      "25        0\n",
      "26        0\n",
      "27        0\n",
      "28        0\n",
      "29        0\n",
      "..      ...\n",
      "69        0\n",
      "70        0\n",
      "71        0\n",
      "72        0\n",
      "73        0\n",
      "74        0\n",
      "75        0\n",
      "76        0\n",
      "77        0\n",
      "78        0\n",
      "79        0\n",
      "80        0\n",
      "81        0\n",
      "82        0\n",
      "83        0\n",
      "84        0\n",
      "85        0\n",
      "86        0\n",
      "87        0\n",
      "88        0\n",
      "89        0\n",
      "90        0\n",
      "91        0\n",
      "92        0\n",
      "93        0\n",
      "94        0\n",
      "95        0\n",
      "96        0\n",
      "97        0\n",
      "98        0\n",
      "\n",
      "[99 rows x 1 columns]     W=0.005\n",
      "0         1\n",
      "1         2\n",
      "2         2\n",
      "3         2\n",
      "4         2\n",
      "5         2\n",
      "6         2\n",
      "7         2\n",
      "8         2\n",
      "9         2\n",
      "10        2\n",
      "11        2\n",
      "12        2\n",
      "13        0\n",
      "14        0\n",
      "15        0\n",
      "16        0\n",
      "17        0\n",
      "18        0\n",
      "19        0\n",
      "20        0\n",
      "21        0\n",
      "22        0\n",
      "23        0\n",
      "24        0\n",
      "25        0\n",
      "26        0\n",
      "27        0\n",
      "28        0\n",
      "29        0\n",
      "..      ...\n",
      "69        0\n",
      "70        0\n",
      "71        0\n",
      "72        0\n",
      "73        0\n",
      "74        0\n",
      "75        0\n",
      "76        0\n",
      "77        0\n",
      "78        0\n",
      "79        0\n",
      "80        0\n",
      "81        0\n",
      "82        0\n",
      "83        0\n",
      "84        0\n",
      "85        0\n",
      "86        0\n",
      "87        0\n",
      "88        0\n",
      "89        0\n",
      "90        0\n",
      "91        0\n",
      "92        0\n",
      "93        0\n",
      "94        0\n",
      "95        0\n",
      "96        0\n",
      "97        0\n",
      "98        0\n",
      "\n",
      "[99 rows x 1 columns]\n"
     ]
    }
   ],
   "source": [
    "visitlistH = pd.read_pickle(\"/home/renato/tesi/code/plot2-lenvisitlist.visitlistH.pickle\")\n",
    "visitlistW = pd.read_pickle(\"/home/renato/tesi/code/plot2-lenvisitlist.visitlistW.pickle\")\n",
    "print(visitlistH,visitlistW)"
   ]
  },
  {
   "cell_type": "code",
   "execution_count": 4,
   "metadata": {
    "collapsed": false
   },
   "outputs": [],
   "source": [
    "fig, axes = plt.subplots(3,2,figsize=(12, 6), sharex='col', sharey='row')\n",
    "#fig.subplots_adjust(hspace=0.1, wspace=0.05)\n",
    "for ax,col in zip(axes.flat,visitlist.columns):\n",
    "    #ax.set_yscale('log')\n",
    "    ax.plot(visitlist[col])\n",
    "    ax.set_title(col)"
   ]
  },
  {
   "cell_type": "code",
   "execution_count": 42,
   "metadata": {
    "collapsed": false
   },
   "outputs": [
    {
     "data": {
      "image/png": "[encoded data removed]",
      "text/plain": [
       "<matplotlib.figure.Figure at 0x7f5df5ed7208>"
      ]
     },
     "metadata": {},
     "output_type": "display_data"
    }
   ],
   "source": [
    "#fig, axes = plt.subplots(3,2,figsize=(12, 12), sharex='col', sharey='row')\n",
    "#fig.subplots_adjust(hspace=0.1, wspace=0.05)\n",
    "matplotlib.style.use('ggplot')\n",
    "\n",
    "fig = plt.figure(figsize=(10,5))\n",
    "ax = plt.gca()\n",
    "_dpi = 250\n",
    "fig.dpi = _dpi\n",
    "label_size = 16\n",
    "plt.rc('text', usetex=True)\n",
    "plt.rc('font', family='serif')\n",
    "trange = np.arange(0,n,1,'int')\n",
    "\n",
    "maxlen=0\n",
    "for col in visitlist.columns:\n",
    "    maxlen = max(maxlen, max(visitlist[col]))\n",
    "\n",
    "plt.subplot(1, 2, 1)\n",
    "#plt.ylim((0,maxlen*3))\n",
    "plt.yscale('log')\n",
    "plt.plot(trange,2**trange,'k',label='$2^k$')\n",
    "plt.plot(trange,trange**3,'k--',label='$k^3$')\n",
    "for col in visitlist.columns:\n",
    "    #ax.set_yscale('log')\n",
    "    plt.plot(visitlist[col], label='$'+col+'$')\n",
    "    plt.legend(loc=2)\n",
    "plt.xlabel(r'$k$',fontsize=label_size)\n",
    "plt.ylabel(r'$|M_k^{\\mathcal{H}}|$',rotation='horizontal', fontsize=label_size, horizontalalignment='right')\n",
    "\n",
    "\n",
    "plt.subplot(1, 2, 2)\n",
    "plt.ylim((0,maxlen*1.1))\n",
    "plt.yscale('linear')\n",
    "plt.plot(trange,2**trange,'k',label='$2^k$')\n",
    "plt.plot(trange,trange**3,'k--',label='$k^3$')\n",
    "for col in visitlist.columns:\n",
    "    #ax.set_yscale('log')\n",
    "    plt.plot(visitlist[col], label='$'+col+'$')\n",
    "    plt.legend(loc=2)\n",
    "plt.xlabel(r'$k$',fontsize=label_size)\n",
    "plt.ylabel(r'$|M_k^{\\mathcal{H}}|$',rotation='horizontal', fontsize=label_size, horizontalalignment='right')\n",
    "\n",
    "plt.tight_layout()\n",
    "plt.savefig(\"/home/renato/tesi/testogit/img/bpv-lenvisitlist.png\",dpi=_dpi,bbox_inches='tight')\n",
    "plt.show()"
   ]
  },
  {
   "cell_type": "code",
   "execution_count": 16,
   "metadata": {
    "collapsed": false
   },
   "outputs": [],
   "source": [
    "plt.savefig?"
   ]
  }
 ],
 "metadata": {
  "kernelspec": {
   "display_name": "Python 3",
   "language": "python",
   "name": "python3"
  },
  "language_info": {
   "codemirror_mode": {
    "name": "ipython",
    "version": 3
   },
   "file_extension": ".py",
   "mimetype": "text/x-python",
   "name": "python",
   "nbconvert_exporter": "python",
   "pygments_lexer": "ipython3",
   "version": "3.4.3"
  }
 },
 "nbformat": 4,
 "nbformat_minor": 0
}
