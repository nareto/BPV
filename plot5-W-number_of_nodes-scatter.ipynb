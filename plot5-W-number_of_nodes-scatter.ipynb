{
 "cells": [
  {
   "cell_type": "code",
   "execution_count": 3,
   "metadata": {
    "collapsed": false
   },
   "outputs": [
    {
     "name": "stdout",
     "output_type": "stream",
     "text": [
      "The autoreload extension is already loaded. To reload it, use:\n",
      "  %reload_ext autoreload\n"
     ]
    }
   ],
   "source": [
    "%load_ext autoreload\n",
    "%autoreload 2\n",
    "import sys\n",
    "#sys.path.append('/usr/lib/python3.4/site-packages')\n",
    "import matplotlib\n",
    "%matplotlib inline\n",
    "#matplotlib.use('TkAgg')\n",
    "import BPV\n",
    "import pattern_manipulation as pm\n",
    "import numpy as np\n",
    "import matplotlib.pyplot as plt\n",
    "import pandas as pd"
   ]
  },
  {
   "cell_type": "code",
   "execution_count": 4,
   "metadata": {
    "collapsed": false
   },
   "outputs": [],
   "source": [
    "df = BPV.Data()\n",
    "df.read_csv(\"p.delviva.csv\",False)\n",
    "df.df.sort_index(by=\"p\",inplace=True,ascending=True)\n",
    "df.df.set_index(pd.Index([j for j in range(len(df.df))]), inplace=True)\n",
    "df_head = df.data_head(100)"
   ]
  },
  {
   "cell_type": "code",
   "execution_count": 5,
   "metadata": {
    "collapsed": false,
    "scrolled": true
   },
   "outputs": [
    {
     "name": "stdout",
     "output_type": "stream",
     "text": [
      "Solution for W=0.005\n",
      "\n",
      "Solver =  pulp \n",
      "Entropy =  0.025782167034014872 \n",
      "Cardinality =  1 \n",
      "Rate =  0.00483558994197\n",
      "\n",
      "Solver =  decgraphH \n",
      "Entropy =  0.025782167034 \n",
      "Cardinality =  1 \n",
      "Rate =  0.00483558994197\n",
      "\n",
      "Solver =  decgraphW \n",
      "Entropy =  0.025782167034 \n",
      "Cardinality =  1 \n",
      "Rate =  0.00483558994197\n",
      "-----------------------------------\n"
     ]
    }
   ],
   "source": [
    "df = df_head\n",
    "N=15\n",
    "#Wvalues = [0.005,0.01,0.05,0.1,0.125,0.15,0.175,0.2,0.25,0.3,0.35]\n",
    "#Wvalues = [0.015, 0.025, 0.03, 0.035,0.04]\n",
    "#Wvalues = [0.005]\n",
    "minW = 0.005\n",
    "maxW = 0.04\n",
    "Wsteps = 10\n",
    "Wvalues = np.arange(minW,maxW,(maxW-minW)/Wsteps)\n",
    "    \n",
    "prbl_decgH1 = {}\n",
    "prbl_decgW1 = {}\n",
    "Hnnodes1 = []\n",
    "Wnnodes1 = []\n",
    "for W in Wvalues:\n",
    "    print(\"Solution for W={0}\".format(W))\n",
    "    prbl_pulp = BPV.BPV(\"pulp\",df,N,W,time_solver=False)\n",
    "    prbl_pulp.solve()\n",
    "    prbl_pulp.pprint_solution()\n",
    "\n",
    "    prbl_decgH1[W] = BPV.BPV(\"decgraphH\",df,N,W,time_solver=False)\n",
    "    prbl_decgH1[W].solve()\n",
    "    prbl_decgH1[W].pprint_solution()\n",
    "    Hnnodes1.append(prbl_decgH1[W].nnodes)\n",
    "   \n",
    "    prbl_decgW1[W] = BPV.BPV(\"decgraphW\",df,N,W,time_solver=False)\n",
    "    prbl_decgW1[W].solve()\n",
    "    prbl_decgW1[W].pprint_solution()\n",
    "    Wnnodes1.append(prbl_decgW1[W].nnodes)\n",
    "\n",
    "    print(\"-----------------------------------\")\n"
   ]
  },
  {
   "cell_type": "code",
   "execution_count": 7,
   "metadata": {
    "collapsed": false
   },
   "outputs": [
    {
     "data": {
      "image/png": "[encoded data removed]",
      "text/plain": [
       "<matplotlib.figure.Figure at 0x7eff9c2e9ba8>"
      ]
     },
     "metadata": {},
     "output_type": "display_data"
    }
   ],
   "source": [
    "matplotlib.style.use('ggplot')\n",
    "#plt.rcdefaults()\n",
    "\n",
    "label_size = 16\n",
    "ms = 2\n",
    "_dpi = 250\n",
    "#plt.ylim((-100,int(10e5)))\n",
    "ax = plt.gca()\n",
    "ax.set_yscale('log')\n",
    "plt.rc('text', usetex=True)\n",
    "plt.rc('font', family='serif')\n",
    "plt.plot(Wvalues,Hnnodes1,'rx-',label='H solver',markeredgewidth=ms)\n",
    "plt.plot(Wvalues,Wnnodes1,'gx-',label='W solver',markeredgewidth=ms)\n",
    "plt.legend(loc=2)\n",
    "plt.xlabel(r'$W$',fontsize=label_size)\n",
    "plt.ylabel(r'number of nodes',rotation='vertical', fontsize=label_size, horizontalalignment='right')\n",
    "#plt.savefig(\"/home/renato/tesi/testogit/img/nnodesW.png\",dpi=_dpi,bbox_inches='tight')\n",
    "plt.show()"
   ]
  },
  {
   "cell_type": "code",
   "execution_count": 9,
   "metadata": {
    "collapsed": false,
    "scrolled": true
   },
   "outputs": [
    {
     "name": "stdout",
     "output_type": "stream",
     "text": [
      "Solution for N=1\n",
      "\n",
      "Solver =  pulp \n",
      "Entropy =  0.06953064242416866 \n",
      "Cardinality =  1 \n",
      "Rate =  0.0170857511283\n",
      "\n",
      "Solver =  decgraphH \n",
      "Entropy =  0.0695306424242 \n",
      "Cardinality =  1 \n",
      "Rate =  0.0170857511283\n",
      "\n",
      "Solver =  decgraphW \n",
      "Entropy =  0.0695306424242 \n",
      "Cardinality =  1 \n",
      "Rate =  0.0170857511283\n",
      "-----------------------------------\n",
      "Solution for N=2\n",
      "\n",
      "Solver =  pulp \n",
      "Entropy =  0.13906128484833732 \n",
      "Cardinality =  2 \n",
      "Rate =  0.0341715022566\n",
      "\n",
      "Solver =  decgraphH \n",
      "Entropy =  0.139061284848 \n",
      "Cardinality =  2 \n",
      "Rate =  0.0341715022566\n",
      "\n",
      "Solver =  decgraphW \n",
      "Entropy =  0.139061284848 \n",
      "Cardinality =  2 \n",
      "Rate =  0.0341715022566\n",
      "-----------------------------------\n"
     ]
    }
   ],
   "source": [
    "df = df_head\n",
    "W = 0.1\n",
    "minN = 1\n",
    "maxN = 3\n",
    "#Nsteps = 10\n",
    "#step = int((maxN-minN)/Nsteps)\n",
    "step = 1\n",
    "Nvalues = np.arange(minN,maxN,step)\n",
    "    \n",
    "prbl_decgH2 = {}\n",
    "prbl_decgW2 = {}\n",
    "Hnnodes2 = []\n",
    "Wnnodes2 = []\n",
    "for N in Nvalues:\n",
    "    print(\"Solution for N={0}\".format(N))\n",
    "    prbl_pulp = BPV.BPV(\"pulp\",df,N,W,time_solver=False)\n",
    "    prbl_pulp.solve()\n",
    "    prbl_pulp.pprint_solution()\n",
    "\n",
    "    prbl_decgH2[N] = BPV.BPV(\"decgraphH\",df,N,W,time_solver=False)\n",
    "    prbl_decgH2[N].solve()\n",
    "    prbl_decgH2[N].pprint_solution()\n",
    "    Hnnodes2.append(prbl_decgH2[N].nnodes)\n",
    "   \n",
    "    prbl_decgW2[N] = BPV.BPV(\"decgraphW\",df,N,W,time_solver=False)\n",
    "    prbl_decgW2[N].solve()\n",
    "    prbl_decgW2[N].pprint_solution()\n",
    "    Wnnodes2.append(prbl_decgW2[N].nnodes)\n",
    "\n",
    "    print(\"-----------------------------------\")\n"
   ]
  },
  {
   "cell_type": "code",
   "execution_count": 11,
   "metadata": {
    "collapsed": false
   },
   "outputs": [
    {
     "data": {
      "image/png": "[encoded data removed]",
      "text/plain": [
       "<matplotlib.figure.Figure at 0x7eff54415080>"
      ]
     },
     "metadata": {},
     "output_type": "display_data"
    }
   ],
   "source": [
    "matplotlib.style.use('ggplot')\n",
    "#plt.rcdefaults()\n",
    "\n",
    "label_size = 16\n",
    "ms = 2\n",
    "_dpi = 250\n",
    "#plt.ylim((-100,int(10e5)))\n",
    "ax = plt.gca()\n",
    "ax.set_yscale('linear')\n",
    "plt.rc('text', usetex=True)\n",
    "plt.rc('font', family='serif')\n",
    "plt.plot(Nvalues[:6],Hnnodes2,'rx-',label='H solver',markeredgewidth=ms)\n",
    "#plt.plot(Nvalues[:5],Wnnodes2,'gx-',label='W solver',markeredgewidth=ms)\n",
    "plt.legend(loc=2)\n",
    "plt.xlabel(r'$N$',fontsize=label_size)\n",
    "plt.ylabel(r'number of nodes',rotation='vertical', fontsize=label_size, horizontalalignment='right')\n",
    "#plt.savefig(\"/home/renato/tesi/testogit/img/nnodesN.png\",dpi=_dpi,bbox_inches='tight')\n",
    "plt.show()"
   ]
  },
  {
   "cell_type": "code",
   "execution_count": 2,
   "metadata": {
    "collapsed": false
   },
   "outputs": [
    {
     "name": "stdout",
     "output_type": "stream",
     "text": [
      "Solution for n=30\n",
      "\n",
      "Solver =  pulp \n",
      "Entropy =  0.3653890220257811 \n",
      "Cardinality =  4 \n",
      "Rate =  0.0987654320988\n",
      "\n",
      "Solver =  decgraphH \n",
      "Entropy =  0.365389022026 \n",
      "Cardinality =  4 \n",
      "Rate =  0.0987654320988\n",
      "\n",
      "Solver =  decgraphW \n",
      "Entropy =  0.365389022026 \n",
      "Cardinality =  4 \n",
      "Rate =  0.0987654320988\n",
      "-----------------------------------\n",
      "Solution for n=40\n",
      "\n",
      "Solver =  pulp \n",
      "Entropy =  0.40514105830010316 \n",
      "Cardinality =  6 \n",
      "Rate =  0.0988857938719\n",
      "\n",
      "Solver =  decgraphH \n",
      "Entropy =  0.4051410583 \n",
      "Cardinality =  6 \n",
      "Rate =  0.0988857938719\n",
      "\n",
      "Solver =  decgraphW \n",
      "Entropy =  0.4051410583 \n",
      "Cardinality =  6 \n",
      "Rate =  0.0988857938719\n",
      "-----------------------------------\n",
      "Solution for n=50\n",
      "\n",
      "Solver =  pulp \n",
      "Entropy =  0.4345354911306133 \n",
      "Cardinality =  8 \n",
      "Rate =  0.0991983967936\n",
      "\n",
      "Solver =  decgraphH \n",
      "Entropy =  0.434535491131 \n",
      "Cardinality =  8 \n",
      "Rate =  0.0991983967936\n",
      "\n",
      "Solver =  decgraphW \n",
      "Entropy =  0.434535491131 \n",
      "Cardinality =  8 \n",
      "Rate =  0.0991983967936\n",
      "-----------------------------------\n"
     ]
    }
   ],
   "source": [
    "df = BPV.Data()\n",
    "df.read_csv(\"p.delviva.csv\",False)\n",
    "df.df.sort_index(by=\"p\",inplace=True,ascending=True)\n",
    "df.df.set_index(pd.Index([j for j in range(len(df.df))]), inplace=True)\n",
    "\n",
    "minn = 30\n",
    "maxn = 60\n",
    "step = 10\n",
    "nvalues = np.arange(minn,maxn,step)\n",
    "\n",
    "W = 0.1\n",
    "N = 10\n",
    "\n",
    "prbl_decgH3 = {}\n",
    "prbl_decgW3 = {}\n",
    "Hnnodes3 = []\n",
    "Wnnodes3 = []\n",
    "for n in nvalues:\n",
    "    df_head = df.data_head(n)\n",
    "    print(\"Solution for n={0}\".format(n))\n",
    "    prbl_pulp = BPV.BPV(\"pulp\",df_head,N,W,time_solver=False)\n",
    "    prbl_pulp.solve()\n",
    "    prbl_pulp.pprint_solution()\n",
    "\n",
    "    prbl_decgH3[N] = BPV.BPV(\"decgraphH\",df_head,N,W,time_solver=False)\n",
    "    prbl_decgH3[N].solve()\n",
    "    prbl_decgH3[N].pprint_solution()\n",
    "    Hnnodes3.append(prbl_decgH3[N].nnodes)\n",
    "   \n",
    "    prbl_decgW3[N] = BPV.BPV(\"decgraphW\",df_head,N,W,time_solver=False)\n",
    "    prbl_decgW3[N].solve()\n",
    "    prbl_decgW3[N].pprint_solution()\n",
    "    Wnnodes3.append(prbl_decgW3[N].nnodes)\n",
    "\n",
    "    print(\"-----------------------------------\")\n"
   ]
  },
  {
   "cell_type": "code",
   "execution_count": 4,
   "metadata": {
    "collapsed": false
   },
   "outputs": [
    {
     "data": {
      "image/png": "[encoded data removed]",
      "text/plain": [
       "<matplotlib.figure.Figure at 0x7f0dbc941898>"
      ]
     },
     "metadata": {},
     "output_type": "display_data"
    }
   ],
   "source": [
    "matplotlib.style.use('ggplot')\n",
    "#plt.rcdefaults()\n",
    "\n",
    "label_size = 16\n",
    "ms = 2\n",
    "_dpi = 250\n",
    "#plt.ylim((-100,int(10e5)))\n",
    "ax = plt.gca()\n",
    "ax.set_yscale('linear')\n",
    "plt.rc('text', usetex=True)\n",
    "plt.rc('font', family='serif')\n",
    "plt.plot(nvalues,Hnnodes3,'rx-',label='H solver',markeredgewidth=ms)\n",
    "plt.plot(nvalues,Wnnodes3,'gx-',label='W solver',markeredgewidth=ms)\n",
    "plt.legend(loc=2)\n",
    "plt.xlabel(r'$n$',fontsize=label_size)\n",
    "plt.ylabel(r'number of nodes',rotation='vertical', fontsize=label_size, horizontalalignment='right')\n",
    "#plt.savefig(\"/home/renato/tesi/testogit/img/nnodesN.png\",dpi=_dpi,bbox_inches='tight')\n",
    "plt.show()"
   ]
  }
 ],
 "metadata": {
  "kernelspec": {
   "display_name": "Python 3",
   "language": "python",
   "name": "python3"
  },
  "language_info": {
   "codemirror_mode": {
    "name": "ipython",
    "version": 3
   },
   "file_extension": ".py",
   "mimetype": "text/x-python",
   "name": "python",
   "nbconvert_exporter": "python",
   "pygments_lexer": "ipython3",
   "version": "3.4.3"
  }
 },
 "nbformat": 4,
 "nbformat_minor": 0
}
