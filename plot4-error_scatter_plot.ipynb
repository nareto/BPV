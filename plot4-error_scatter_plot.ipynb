{
 "cells": [
  {
   "cell_type": "code",
   "execution_count": 1,
   "metadata": {
    "collapsed": false
   },
   "outputs": [],
   "source": [
    "%load_ext autoreload\n",
    "%autoreload 2\n",
    "import sys\n",
    "#sys.path.append('/usr/lib/python3.4/site-packages')\n",
    "import matplotlib\n",
    "#%matplotlib inline\n",
    "matplotlib.use('TkAgg')\n",
    "import BPV\n",
    "import pattern_manipulation as pm\n",
    "import numpy as np\n",
    "import matplotlib.pyplot as plt\n",
    "import pandas as pd"
   ]
  },
  {
   "cell_type": "code",
   "execution_count": 2,
   "metadata": {
    "collapsed": false,
    "scrolled": true
   },
   "outputs": [],
   "source": [
    "df = BPV.Data()\n",
    "df.read_csv(\"p.delviva.csv\",False)\n",
    "df.df.sort_index(by=\"p\",inplace=True,ascending=True)\n",
    "df.df.set_index(pd.Index([j for j in range(len(df.df))]), inplace=True)"
   ]
  },
  {
   "cell_type": "code",
   "execution_count": 20,
   "metadata": {
    "collapsed": false
   },
   "outputs": [],
   "source": [
    "matplotlib.style.use('bmh')\n",
    "\n",
    "var = 0.0006\n",
    "df_err = df.artificial_noise2(var)\n",
    "\n",
    "#plt.plot(df.df['p'],'b')\n",
    "#plt.plot(df_err.df['p'],'r')\n",
    "#plt.show()\n"
   ]
  },
  {
   "cell_type": "code",
   "execution_count": 28,
   "metadata": {
    "collapsed": false
   },
   "outputs": [],
   "source": [
    "N=50\n",
    "W=0.025\n",
    "plot1 = False\n",
    "plot2 = True\n",
    "\n",
    "number_of_points = 5\n",
    "min_var = 0.00001\n",
    "max_var = 0.001\n",
    "variances = np.arange(min_var,max_var, (max_var-min_var)/number_of_points)\n",
    "min_var_factor = 0.001\n",
    "max_var_factor = 0.5\n",
    "variance_factors = np.arange(min_var_factor,max_var_factor, (max_var_factor-min_var_factor)/number_of_points)\n",
    "\n",
    "colors = ('b', #blue\n",
    "        'g',# green\n",
    "        'r',# red\n",
    "        'c',# cyan\n",
    "        'm',# magenta\n",
    "        'y',# yellow\n",
    "        'k',# black\n",
    "        'w')# white\n",
    "if plot1:\n",
    "    c = 0 #colors index\n",
    "    matplotlib.style.use('dark_background')\n",
    "    ax = plt.gca()\n",
    "    ax.set_yscale('linear')\n",
    "    p = df.df['p']\n",
    "    plt.plot(p,label='p')\n",
    "    for v in variances:\n",
    "        p_err = df.artificial_noise1(v).df['p'] \n",
    "        plt.plot(p_err,colors[c],label=str(v))\n",
    "        c += 1\n",
    "    plt.legend(loc=2)\n",
    "    plt.show()\n",
    "\n",
    "if plot2:\n",
    "    c = 0 #colors index\n",
    "    matplotlib.style.use('dark_background')\n",
    "    ax = plt.gca()\n",
    "    ax.set_yscale('linear')\n",
    "    p = df.df['p']\n",
    "    plt.plot(p,label='p')\n",
    "    for v in variance_factors:\n",
    "        p_err = df.artificial_noise2(v).df['p'] \n",
    "        plt.plot(p_err,colors[c],label=str(v))\n",
    "        c += 1\n",
    "    plt.legend(loc=2)\n",
    "    plt.show()"
   ]
  },
  {
   "cell_type": "code",
   "execution_count": 9,
   "metadata": {
    "collapsed": false,
    "scrolled": true
   },
   "outputs": [
    {
     "name": "stdout",
     "output_type": "stream",
     "text": [
      "\n",
      "Solver =  pulp \n",
      "Entropy =  0.18640048905319734 \n",
      "Cardinality =  50 \n",
      "Rate =  0.0249997725639\n",
      "\n",
      "Solver =  pulp \n",
      "Entropy =  0.0 \n",
      "Cardinality =  0 \n",
      "Rate =  0\n",
      "1.61853693753e-05 1.0\n",
      "------------------\n",
      "\n",
      "Solver =  pulp \n",
      "Entropy =  0.18640048905319734 \n",
      "Cardinality =  50 \n",
      "Rate =  0.0249997725639\n",
      "\n",
      "Solver =  pulp \n",
      "Entropy =  0.18969645070952015 \n",
      "Cardinality =  50 \n",
      "Rate =  0.0249990728527\n",
      "0.000283402953194 0.0176821513348\n",
      "------------------\n",
      "\n",
      "Solver =  pulp \n",
      "Entropy =  0.18640048905319734 \n",
      "Cardinality =  50 \n",
      "Rate =  0.0249997725639\n",
      "\n",
      "Solver =  pulp \n",
      "Entropy =  0.18997932327888206 \n",
      "Cardinality =  50 \n",
      "Rate =  0.0249991278731\n",
      "0.000643997392214 0.0191997040558\n",
      "------------------\n",
      "\n",
      "Solver =  pulp \n",
      "Entropy =  0.18640048905319734 \n",
      "Cardinality =  50 \n",
      "Rate =  0.0249997725639\n",
      "\n",
      "Solver =  pulp \n",
      "Entropy =  0.18999566977116267 \n",
      "Cardinality =  50 \n",
      "Rate =  0.0249999746051\n",
      "0.000920554850289 0.0192873995998\n",
      "------------------\n",
      "\n",
      "Solver =  pulp \n",
      "Entropy =  0.18640048905319734 \n",
      "Cardinality =  50 \n",
      "Rate =  0.0249997725639\n",
      "\n",
      "Solver =  pulp \n",
      "Entropy =  0.189917677166343 \n",
      "Cardinality =  50 \n",
      "Rate =  0.024999879839\n",
      "0.000942732135193 0.0188689854357\n",
      "------------------\n"
     ]
    }
   ],
   "source": [
    "l = number_of_points\n",
    "in_errs1 = [0]*l\n",
    "out_errs1 = [0]*l\n",
    "for i in range(l):\n",
    "    df_err = df.artificial_noise1(variances[i])\n",
    "\n",
    "    pulp_correct = BPV.BPV(\"pulp\",df,N,W,time_solver=False)\n",
    "    pulp_correct.solve()\n",
    "    pulp_correct.pprint_solution()\n",
    "\n",
    "    pulp_error = BPV.BPV(\"pulp\",df_err,N,W,time_solver=False)\n",
    "    pulp_error.solve()\n",
    "    pulp_error.pprint_solution()\n",
    "\n",
    "    in_errs1[i] = BPV.distance1(df.df['p'],df_err.df['p'])\n",
    "    #out_errs1[i] = np.abs(pulp_correct.solution_entropy - pulp_error.solution_entropy)\n",
    "    out_errs1[i] = np.abs(pulp_correct.solution_entropy - pulp_error.solution_entropy)/pulp_correct.solution_entropy\n",
    "    print(in_errs1[i], out_errs1[i])\n",
    "    \n",
    "    print(\"------------------\")\n",
    "    "
   ]
  },
  {
   "cell_type": "code",
   "execution_count": 10,
   "metadata": {
    "collapsed": false,
    "scrolled": true
   },
   "outputs": [
    {
     "name": "stdout",
     "output_type": "stream",
     "text": [
      "\n",
      "Solver =  pulp \n",
      "Entropy =  0.18640048905319734 \n",
      "Cardinality =  50 \n",
      "Rate =  0.0249997725639\n",
      "\n",
      "Solver =  pulp \n",
      "Entropy =  0.18640789313611533 \n",
      "Cardinality =  50 \n",
      "Rate =  0.0249993927032\n",
      "1.97312166717e-06 3.97213706659e-05\n",
      "------------------\n",
      "\n",
      "Solver =  pulp \n",
      "Entropy =  0.18640048905319734 \n",
      "Cardinality =  50 \n",
      "Rate =  0.0249997725639\n",
      "\n",
      "Solver =  pulp \n",
      "Entropy =  0.18616894023397543 \n",
      "Cardinality =  50 \n",
      "Rate =  0.0249998458964\n",
      "0.000231549536672 0.00124221143624\n",
      "------------------\n",
      "\n",
      "Solver =  pulp \n",
      "Entropy =  0.18640048905319734 \n",
      "Cardinality =  50 \n",
      "Rate =  0.0249997725639\n",
      "\n",
      "Solver =  pulp \n",
      "Entropy =  0.1864667332342592 \n",
      "Cardinality =  50 \n",
      "Rate =  0.0249987041415\n",
      "0.000633979260257 0.000355386305038\n",
      "------------------\n",
      "\n",
      "Solver =  pulp \n",
      "Entropy =  0.18640048905319734 \n",
      "Cardinality =  50 \n",
      "Rate =  0.0249997725639\n",
      "\n",
      "Solver =  pulp \n",
      "Entropy =  0.1870622821999518 \n",
      "Cardinality =  50 \n",
      "Rate =  0.0249992386272\n",
      "0.000433896354163 0.00355038310316\n",
      "------------------\n",
      "\n",
      "Solver =  pulp \n",
      "Entropy =  0.18640048905319734 \n",
      "Cardinality =  50 \n",
      "Rate =  0.0249997725639\n",
      "\n",
      "Solver =  pulp \n",
      "Entropy =  0.0 \n",
      "Cardinality =  0 \n",
      "Rate =  0\n",
      "0.000838221849861 1.0\n",
      "------------------\n"
     ]
    }
   ],
   "source": [
    "l = number_of_points\n",
    "in_errs2 = [0]*l\n",
    "out_errs2 = [0]*l\n",
    "for i in range(l):\n",
    "    df_err = df.artificial_noise2(variance_factors[i])\n",
    "\n",
    "    pulp_correct = BPV.BPV(\"pulp\",df,N,W,time_solver=False)\n",
    "    pulp_correct.solve()\n",
    "    pulp_correct.pprint_solution()\n",
    "\n",
    "    pulp_error = BPV.BPV(\"pulp\",df_err,N,W,time_solver=False)\n",
    "    pulp_error.solve()\n",
    "    pulp_error.pprint_solution()\n",
    "\n",
    "    in_errs2[i] = BPV.distance1(df.df['p'],df_err.df['p'])\n",
    "    #out_errs2[i] = np.abs(pulp_correct.solution_entropy - pulp_error.solution_entropy)\n",
    "    out_errs2[i] = np.abs(pulp_correct.solution_entropy - pulp_error.solution_entropy)/pulp_correct.solution_entropy\n",
    "    print(in_errs2[i], out_errs2[i])\n",
    "    \n",
    "    print(\"------------------\")\n",
    "    "
   ]
  },
  {
   "cell_type": "code",
   "execution_count": 13,
   "metadata": {
    "collapsed": true
   },
   "outputs": [],
   "source": [
    "ax = plt.gca()\n",
    "ax.set_yscale('log')\n",
    "plt.plot(in_errs1,out_errs1,'bo')\n",
    "plt.plot(in_errs2,out_errs2,'ro')\n",
    "plt.show()"
   ]
  },
  {
   "cell_type": "code",
   "execution_count": 8,
   "metadata": {
    "collapsed": true
   },
   "outputs": [],
   "source": [
    "plt.plot(in_errs1,'g-')\n",
    "plt.show()"
   ]
  }
 ],
 "metadata": {
  "kernelspec": {
   "display_name": "Python 3",
   "language": "python",
   "name": "python3"
  },
  "language_info": {
   "codemirror_mode": {
    "name": "ipython",
    "version": 3
   },
   "file_extension": ".py",
   "mimetype": "text/x-python",
   "name": "python",
   "nbconvert_exporter": "python",
   "pygments_lexer": "ipython3",
   "version": "3.4.3"
  }
 },
 "nbformat": 4,
 "nbformat_minor": 0
}
