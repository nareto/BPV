{
 "cells": [
  {
   "cell_type": "code",
   "execution_count": 5,
   "metadata": {
    "collapsed": false
   },
   "outputs": [
    {
     "name": "stdout",
     "output_type": "stream",
     "text": [
      "The autoreload extension is already loaded. To reload it, use:\n",
      "  %reload_ext autoreload\n"
     ]
    }
   ],
   "source": [
    "%load_ext autoreload\n",
    "%autoreload 2\n",
    "import matplotlib\n",
    "%matplotlib inline\n",
    "#matplotlib.use('TkAgg')\n",
    "import BPV\n",
    "import pattern_manipulation as pm\n",
    "import numpy as np\n",
    "import matplotlib.pyplot as plt\n",
    "import pandas as pd"
   ]
  },
  {
   "cell_type": "code",
   "execution_count": 2,
   "metadata": {
    "collapsed": false,
    "scrolled": true
   },
   "outputs": [],
   "source": [
    "n = 50\n",
    "N=5\n",
    "Wvalues = [0.005,0.008,0.01,0.012,0.015,0.02]\n",
    "colnames = []\n",
    "for W in Wvalues:\n",
    "    colnames.append('W={0}'.format(W))\n",
    "df = BPV.Data()\n",
    "df.read_csv(\"p.delviva.csv\",False)\n",
    "df.df.sort_index(by=\"p\",inplace=True,ascending=False)\n",
    "df.df.set_index(pd.Index([j for j in range(len(df.df))]), inplace=True)\n",
    "df = df.data_head(n)\n",
    "#df.df"
   ]
  },
  {
   "cell_type": "code",
   "execution_count": 3,
   "metadata": {
    "collapsed": false,
    "scrolled": true
   },
   "outputs": [
    {
     "name": "stdout",
     "output_type": "stream",
     "text": [
      "Solution for W=0.005\n",
      "\n",
      "Solver =  pulp \n",
      "Entropy =  0.03453223564464822 \n",
      "Cardinality =  5 \n",
      "Rate =  0.00499907208877\n",
      "\n",
      "Solver =  decgraphV \n",
      "Entropy =  0.0345322356446 \n",
      "Cardinality =  5 \n",
      "Rate =  0.00499907208877\n",
      "-----------------------------------\n",
      "Solution for W=0.008\n",
      "\n",
      "Solver =  pulp \n",
      "Entropy =  0.05145182830521837 \n",
      "Cardinality =  5 \n",
      "Rate =  0.00799671511484\n",
      "\n",
      "Solver =  decgraphV \n",
      "Entropy =  0.0514518283052 \n",
      "Cardinality =  5 \n",
      "Rate =  0.00799671511484\n",
      "-----------------------------------\n",
      "Solution for W=0.01\n",
      "\n",
      "Solver =  pulp \n",
      "Entropy =  0.06180923759097836 \n",
      "Cardinality =  5 \n",
      "Rate =  0.00999629100249\n",
      "\n",
      "Solver =  decgraphV \n",
      "Entropy =  0.061809237591 \n",
      "Cardinality =  5 \n",
      "Rate =  0.00999629100249\n",
      "-----------------------------------\n",
      "Solution for W=0.012\n",
      "\n",
      "Solver =  pulp \n",
      "Entropy =  0.07200880967209104 \n",
      "Cardinality =  5 \n",
      "Rate =  0.0119866010149\n",
      "\n",
      "Solver =  decgraphV \n",
      "Entropy =  0.0720104010711 \n",
      "Cardinality =  5 \n",
      "Rate =  0.011999308501\n",
      "-----------------------------------\n",
      "Solution for W=0.015\n",
      "\n",
      "Solver =  pulp \n",
      "Entropy =  0.08707910542443717 \n",
      "Cardinality =  5 \n",
      "Rate =  0.014996951527\n",
      "\n",
      "Solver =  decgraphV \n",
      "Entropy =  0.0870791054244 \n",
      "Cardinality =  5 \n",
      "Rate =  0.014996951527\n",
      "-----------------------------------\n",
      "Solution for W=0.02\n",
      "\n",
      "Solver =  pulp \n",
      "Entropy =  0.11023842138340208 \n",
      "Cardinality =  5 \n",
      "Rate =  0.0199856987833\n",
      "\n",
      "Solver =  decgraphV \n",
      "Entropy =  0.110238421383 \n",
      "Cardinality =  5 \n",
      "Rate =  0.0199856987833\n",
      "-----------------------------------\n"
     ]
    }
   ],
   "source": [
    "firstiter = True\n",
    "for W,col in zip(Wvalues,colnames):\n",
    "    print(\"Solution for W={0}\".format(W))\n",
    "    prbl_pulp = BPV.BPV(\"pulp\",df,N,W,time_solver=False)\n",
    "    prbl_pulp.solve()\n",
    "    prbl_pulp.pprint_solution()\n",
    "\n",
    "    prbl_decV = BPV.BPV(\"decgraphV\",df,N,W,time_solver=False)\n",
    "    prbl_decV.solve()\n",
    "    #cProfile.run('prbl.solve()',sort=1)\n",
    "    prbl_decV.pprint_solution()\n",
    "    print(\"-----------------------------------\")\n",
    "    dec_visitlist = prbl_decV.decgraph_len_visitlist\n",
    "    for i in range(n-1, len(dec_visitlist),-1):\n",
    "        dec_visitlist.append(0)\n",
    "    if firstiter:\n",
    "        visitlist=pd.DataFrame(dec_visitlist, columns=[col])\n",
    "        firstiter = False\n",
    "    else:\n",
    "        visitlist[col] = dec_visitlist"
   ]
  },
  {
   "cell_type": "code",
   "execution_count": 4,
   "metadata": {
    "collapsed": false
   },
   "outputs": [],
   "source": [
    "fig, axes = plt.subplots(3,2,figsize=(12, 6), sharex='col', sharey='row')\n",
    "#fig.subplots_adjust(hspace=0.1, wspace=0.05)\n",
    "for ax,col in zip(axes.flat,visitlist.columns):\n",
    "    #ax.set_yscale('log')\n",
    "    ax.plot(visitlist[col])\n",
    "    ax.set_title(col)"
   ]
  },
  {
   "cell_type": "code",
   "execution_count": 6,
   "metadata": {
    "collapsed": false
   },
   "outputs": [
    {
     "name": "stdout",
     "output_type": "stream",
     "text": [
      "120\n"
     ]
    },
    {
     "data": {
      "image/png": "[encoded data removed]",
      "text/plain": [
       "<matplotlib.figure.Figure at 0x7fa235634b70>"
      ]
     },
     "metadata": {},
     "output_type": "display_data"
    }
   ],
   "source": [
    "#fig, axes = plt.subplots(3,2,figsize=(12, 12), sharex='col', sharey='row')\n",
    "#fig.subplots_adjust(hspace=0.1, wspace=0.05)\n",
    "fig = plt.figure()\n",
    "ax = plt.gca()\n",
    "_dpi = 120\n",
    "fig.dpi = _dpi\n",
    "label_size = 16\n",
    "plt.rc('text', usetex=True)\n",
    "plt.rc('font', family='serif')\n",
    "for col in visitlist.columns:\n",
    "    #ax.set_yscale('log')\n",
    "    plt.plot(visitlist[col], label='$'+col+'$')\n",
    "    plt.legend(loc=2)\n",
    "plt.xlabel(r'$k$',fontsize=label_size)\n",
    "plt.ylabel(r'$|F_k|$',rotation='horizontal', fontsize=label_size, horizontalalignment='right')\n",
    "print(fig.dpi)\n",
    "#plt.savefig(\"/home/renato/tesi/testogit/img/bpv-lenvisitlist.png\",dpi=_dpi,bbox_inches='tight')\n",
    "plt.show()"
   ]
  },
  {
   "cell_type": "code",
   "execution_count": 16,
   "metadata": {
    "collapsed": false
   },
   "outputs": [],
   "source": [
    "plt.savefig?"
   ]
  }
 ],
 "metadata": {
  "kernelspec": {
   "display_name": "Python 3",
   "language": "python",
   "name": "python3"
  },
  "language_info": {
   "codemirror_mode": {
    "name": "ipython",
    "version": 3
   },
   "file_extension": ".py",
   "mimetype": "text/x-python",
   "name": "python",
   "nbconvert_exporter": "python",
   "pygments_lexer": "ipython3",
   "version": "3.4.3"
  }
 },
 "nbformat": 4,
 "nbformat_minor": 0
}
