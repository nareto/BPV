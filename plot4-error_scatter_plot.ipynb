{
 "cells": [
  {
   "cell_type": "code",
   "execution_count": 1,
   "metadata": {
    "collapsed": true
   },
   "outputs": [],
   "source": [
    "%load_ext autoreload\n",
    "%autoreload 2\n",
    "import sys\n",
    "#sys.path.append('/usr/lib/python3.4/site-packages')\n",
    "import matplotlib\n",
    "#%matplotlib inline\n",
    "matplotlib.use('TkAgg')\n",
    "import BPV\n",
    "import pattern_manipulation as pm\n",
    "import numpy as np\n",
    "import matplotlib.pyplot as plt\n",
    "import pandas as pd"
   ]
  },
  {
   "cell_type": "code",
   "execution_count": 8,
   "metadata": {
    "collapsed": false,
    "scrolled": true
   },
   "outputs": [],
   "source": [
    "df = BPV.Data()\n",
    "df.read_csv(\"p.delviva.csv\",False)\n",
    "df.df.sort_index(by=\"p\",inplace=True,ascending=True)\n",
    "df.df.set_index(pd.Index([j for j in range(len(df.df))]), inplace=True)\n",
    "\n",
    "var = 0.0006\n",
    "df_err = df.artificial_noise1(var)\n"
   ]
  },
  {
   "cell_type": "code",
   "execution_count": 9,
   "metadata": {
    "collapsed": false
   },
   "outputs": [],
   "source": [
    "matplotlib.style.use('ggplot')\n",
    "\n",
    "plt.plot(df.df['p'],'b')\n",
    "plt.plot(df_err.df['p'],'r')\n",
    "plt.show()"
   ]
  },
  {
   "cell_type": "code",
   "execution_count": 13,
   "metadata": {
    "collapsed": false,
    "scrolled": true
   },
   "outputs": [
    {
     "name": "stdout",
     "output_type": "stream",
     "text": [
      "\n",
      "Solver =  pulp \n",
      "Entropy =  0.18640048905319734 \n",
      "Cardinality =  50 \n",
      "Rate =  0.0249997725639\n",
      "\n",
      "Solver =  pulp \n",
      "Entropy =  0.18725853991235128 \n",
      "Cardinality =  50 \n",
      "Rate =  0.0249988917119\n",
      "1.60273734396e-05 0.000858050859154\n",
      "------------------\n",
      "\n",
      "Solver =  pulp \n",
      "Entropy =  0.18640048905319734 \n",
      "Cardinality =  50 \n",
      "Rate =  0.0249997725639\n",
      "\n",
      "Solver =  pulp \n",
      "Entropy =  0.20391464119692482 \n",
      "Cardinality =  50 \n",
      "Rate =  0.024998208333\n",
      "8.11553444176e-05 0.0175141521437\n",
      "------------------\n",
      "\n",
      "Solver =  pulp \n",
      "Entropy =  0.18640048905319734 \n",
      "Cardinality =  50 \n",
      "Rate =  0.0249997725639\n",
      "\n",
      "Solver =  pulp \n",
      "Entropy =  0.20875399342222142 \n",
      "Cardinality =  50 \n",
      "Rate =  0.0249975597207\n",
      "0.000140670420042 0.022353504369\n",
      "------------------\n",
      "\n",
      "Solver =  pulp \n",
      "Entropy =  0.18640048905319734 \n",
      "Cardinality =  50 \n",
      "Rate =  0.0249997725639\n",
      "\n",
      "Solver =  pulp \n",
      "Entropy =  0.3123279010171052 \n",
      "Cardinality =  50 \n",
      "Rate =  0.0250000902656\n",
      "0.00138928127226 0.125927411964\n",
      "------------------\n"
     ]
    }
   ],
   "source": [
    "N=50\n",
    "W=0.025\n",
    "variances = [0.00001,0.00006,0.0001,0.001]\n",
    "#variances = [0.00001,0.001]\n",
    "l = len(variances)\n",
    "in_errs = [0]*l\n",
    "out_errs = [0]*l\n",
    "for i in range(l):\n",
    "    df_err = df.artificial_noise1(variances[i])\n",
    "\n",
    "    pulp_correct = BPV.BPV(\"pulp\",df,N,W,time_solver=False)\n",
    "    pulp_correct.solve()\n",
    "    pulp_correct.pprint_solution()\n",
    "\n",
    "    pulp_error = BPV.BPV(\"pulp\",df_err,N,W,time_solver=False)\n",
    "    pulp_error.solve()\n",
    "    pulp_error.pprint_solution()\n",
    "\n",
    "    in_errs[i] = BPV.distance1(df.df['p'],df_err.df['p'])\n",
    "    out_errs[i] = np.abs(pulp_correct.solution_entropy - pulp_error.solution_entropy)\n",
    "    print(in_errs[i], out_errs[i])\n",
    "    \n",
    "    print(\"------------------\")\n",
    "    "
   ]
  },
  {
   "cell_type": "code",
   "execution_count": 15,
   "metadata": {
    "collapsed": true
   },
   "outputs": [],
   "source": [
    "plt.plot(in_errs,out_errs,'o')\n",
    "plt.show()"
   ]
  }
 ],
 "metadata": {
  "kernelspec": {
   "display_name": "Python 3",
   "language": "python",
   "name": "python3"
  },
  "language_info": {
   "codemirror_mode": {
    "name": "ipython",
    "version": 3
   },
   "file_extension": ".py",
   "mimetype": "text/x-python",
   "name": "python",
   "nbconvert_exporter": "python",
   "pygments_lexer": "ipython3",
   "version": "3.4.3"
  }
 },
 "nbformat": 4,
 "nbformat_minor": 0
}
