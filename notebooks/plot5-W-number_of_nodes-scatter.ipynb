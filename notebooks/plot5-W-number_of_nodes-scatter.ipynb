{
 "cells": [
  {
   "cell_type": "code",
   "execution_count": 1,
   "metadata": {
    "collapsed": false
   },
   "outputs": [
    {
     "name": "stdout",
     "output_type": "stream",
     "text": [
      "The autoreload extension is already loaded. To reload it, use:\n",
      "  %reload_ext autoreload\n"
     ]
    }
   ],
   "source": [
    "%load_ext autoreload\n",
    "%autoreload 0\n",
    "import sys\n",
    "#sys.path.append('/usr/lib/python3.4/site-packages')\n",
    "import matplotlib\n",
    "%matplotlib inline\n",
    "#matplotlib.use('TkAgg')\n",
    "import BPV\n",
    "import pattern_manipulation as pm\n",
    "import numpy as np\n",
    "import matplotlib.pyplot as plt\n",
    "import pandas as pd\n",
    "import pickle"
   ]
  },
  {
   "cell_type": "code",
   "execution_count": 2,
   "metadata": {
    "collapsed": false
   },
   "outputs": [],
   "source": [
    "df = BPV.Data()\n",
    "df.read_csv(\"p.delviva.csv\",False)\n",
    "df.df.sort_index(by=\"p\",inplace=True,ascending=True)\n",
    "df.df.set_index(pd.Index([j for j in range(len(df.df))]), inplace=True)\n",
    "df_head = df.data_head(100)"
   ]
  },
  {
   "cell_type": "code",
   "execution_count": 25,
   "metadata": {
    "collapsed": false,
    "scrolled": true
   },
   "outputs": [
    {
     "name": "stdout",
     "output_type": "stream",
     "text": [
      "Solution for W=0.005\n",
      "\n",
      "Solver =  pulp \n",
      "Entropy =  0.025782167034014872 \n",
      "Cardinality =  1 \n",
      "Rate =  0.00483558994197\n",
      "\n",
      "Solver =  decgraphH \n",
      "Entropy =  0.025782167034 \n",
      "Cardinality =  1 \n",
      "Rate =  0.00483558994197\n",
      "\n",
      "Solver =  decgraphW \n",
      "Entropy =  0.025782167034 \n",
      "Cardinality =  1 \n",
      "Rate =  0.00483558994197\n",
      "-----------------------------------\n",
      "Solution for W=0.0085\n",
      "\n",
      "Solver =  pulp \n",
      "Entropy =  0.04578892969691599 \n",
      "Cardinality =  2 \n",
      "Rate =  0.00838168923275\n",
      "\n",
      "Solver =  decgraphH \n",
      "Entropy =  0.0457889296969 \n",
      "Cardinality =  2 \n",
      "Rate =  0.00838168923275\n",
      "\n",
      "Solver =  decgraphW \n",
      "Entropy =  0.0457889296969 \n",
      "Cardinality =  2 \n",
      "Rate =  0.00838168923275\n",
      "-----------------------------------\n",
      "Solution for W=0.012\n",
      "\n",
      "Solver =  pulp \n",
      "Entropy =  0.06592217455716891 \n",
      "Cardinality =  3 \n",
      "Rate =  0.0119277885235\n",
      "\n",
      "Solver =  decgraphH \n",
      "Entropy =  0.0659221745572 \n",
      "Cardinality =  3 \n",
      "Rate =  0.0119277885235\n",
      "\n",
      "Solver =  decgraphW \n",
      "Entropy =  0.0659221745572 \n",
      "Cardinality =  3 \n",
      "Rate =  0.0119277885235\n",
      "-----------------------------------\n",
      "Solution for W=0.015500000000000003\n",
      "\n",
      "Solver =  pulp \n",
      "Entropy =  0.08592893722007003 \n",
      "Cardinality =  4 \n",
      "Rate =  0.0154738878143\n",
      "\n",
      "Solver =  decgraphH \n",
      "Entropy =  0.0859289372201 \n",
      "Cardinality =  4 \n",
      "Rate =  0.0154738878143\n",
      "\n",
      "Solver =  decgraphW \n",
      "Entropy =  0.0859289372201 \n",
      "Cardinality =  4 \n",
      "Rate =  0.0154738878143\n",
      "-----------------------------------\n",
      "Solution for W=0.019000000000000003\n",
      "\n",
      "Solver =  pulp \n",
      "Entropy =  0.1044241572418058 \n",
      "Cardinality =  5 \n",
      "Rate =  0.0186976144423\n",
      "\n",
      "Solver =  decgraphH \n",
      "Entropy =  0.104424157242 \n",
      "Cardinality =  5 \n",
      "Rate =  0.0186976144423\n",
      "\n",
      "Solver =  decgraphW \n",
      "Entropy =  0.104424157242 \n",
      "Cardinality =  5 \n",
      "Rate =  0.0186976144423\n",
      "-----------------------------------\n",
      "Solution for W=0.022500000000000003\n",
      "\n",
      "Solver =  pulp \n",
      "Entropy =  0.12443091990470692 \n",
      "Cardinality =  6 \n",
      "Rate =  0.0222437137331\n",
      "\n",
      "Solver =  decgraphH \n",
      "Entropy =  0.124430919905 \n",
      "Cardinality =  6 \n",
      "Rate =  0.0222437137331\n",
      "\n",
      "Solver =  decgraphW \n",
      "Entropy =  0.124430919905 \n",
      "Cardinality =  6 \n",
      "Rate =  0.0222437137331\n",
      "-----------------------------------\n",
      "Solution for W=0.026000000000000006\n",
      "\n",
      "Solver =  pulp \n",
      "Entropy =  0.14422021494517828 \n",
      "Cardinality =  7 \n",
      "Rate =  0.0257898130239\n",
      "\n",
      "Solver =  decgraphH \n",
      "Entropy =  0.144220214945 \n",
      "Cardinality =  7 \n",
      "Rate =  0.0257898130239\n",
      "\n",
      "Solver =  decgraphW \n",
      "Entropy =  0.144220214945 \n",
      "Cardinality =  7 \n",
      "Rate =  0.0257898130239\n",
      "-----------------------------------\n",
      "Solution for W=0.029500000000000005\n",
      "\n",
      "Solver =  pulp \n",
      "Entropy =  0.16404091215040173 \n",
      "Cardinality =  8 \n",
      "Rate =  0.0293359123146\n",
      "\n",
      "Solver =  decgraphH \n",
      "Entropy =  0.16404091215 \n",
      "Cardinality =  8 \n",
      "Rate =  0.0293359123146\n",
      "\n",
      "Solver =  decgraphW \n",
      "Entropy =  0.16404091215 \n",
      "Cardinality =  8 \n",
      "Rate =  0.0293359123146\n",
      "-----------------------------------\n",
      "Solution for W=0.033\n",
      "\n",
      "Solver =  pulp \n",
      "Entropy =  0.1839220560291437 \n",
      "Cardinality =  9 \n",
      "Rate =  0.0328820116054\n",
      "\n",
      "Solver =  decgraphH \n",
      "Entropy =  0.183922056029 \n",
      "Cardinality =  9 \n",
      "Rate =  0.0328820116054\n",
      "\n",
      "Solver =  decgraphW \n",
      "Entropy =  0.183922056029 \n",
      "Cardinality =  9 \n",
      "Rate =  0.0328820116054\n",
      "-----------------------------------\n",
      "Solution for W=0.036500000000000005\n",
      "\n",
      "Solver =  pulp \n",
      "Entropy =  0.20023358715445558 \n",
      "Cardinality =  9 \n",
      "Rate =  0.0364281108962\n",
      "\n",
      "Solver =  decgraphH \n",
      "Entropy =  0.200233587154 \n",
      "Cardinality =  9 \n",
      "Rate =  0.0364281108962\n",
      "\n",
      "Solver =  decgraphW \n",
      "Entropy =  0.200233587154 \n",
      "Cardinality =  9 \n",
      "Rate =  0.0364281108962\n",
      "-----------------------------------\n"
     ]
    }
   ],
   "source": [
    "df = df_head\n",
    "N=15\n",
    "#Wvalues = [0.005,0.01,0.05,0.1,0.125,0.15,0.175,0.2,0.25,0.3,0.35]\n",
    "#Wvalues = [0.015, 0.025, 0.03, 0.035,0.04]\n",
    "#Wvalues = [0.005]\n",
    "minW = 0.005\n",
    "maxW = 0.04\n",
    "Wsteps = 10\n",
    "Wvalues = np.arange(minW,maxW,(maxW-minW)/Wsteps)\n",
    "    \n",
    "prbl_decgH1 = {}\n",
    "prbl_decgW1 = {}\n",
    "Hnnodes1 = []\n",
    "Wnnodes1 = []\n",
    "for W in Wvalues:\n",
    "    print(\"Solution for W={0}\".format(W))\n",
    "    prbl_pulp = BPV.BPV(\"pulp\",df,N,W,time_solver=False)\n",
    "    prbl_pulp.solve()\n",
    "    prbl_pulp.pprint_solution()\n",
    "\n",
    "    prbl_decgH1[W] = BPV.BPV(\"decgraphH\",df,N,W,time_solver=False)\n",
    "    prbl_decgH1[W].solve()\n",
    "    prbl_decgH1[W].pprint_solution()\n",
    "    Hnnodes1.append(prbl_decgH1[W].nnodes)\n",
    "   \n",
    "    prbl_decgW1[W] = BPV.BPV(\"decgraphW\",df,N,W,time_solver=False)\n",
    "    prbl_decgW1[W].solve()\n",
    "    prbl_decgW1[W].pprint_solution()\n",
    "    Wnnodes1.append(prbl_decgW1[W].nnodes)\n",
    "\n",
    "    print(\"-----------------------------------\")\n",
    "\n",
    "f1 = open(\"/home/renato/tesi/code/data/plot5.decgH1\",r'wb')\n",
    "f2 = open(\"/home/renato/tesi/code/data/plot5.decgW1\",r'wb')\n",
    "pickle.dump(prbl_decgH1,f1)\n",
    "pickle.dump(prbl_decgW1,f2)\n"
   ]
  },
  {
   "cell_type": "code",
   "execution_count": 7,
   "metadata": {
    "collapsed": false
   },
   "outputs": [
    {
     "data": {
      "text/plain": [
       "[25, 199, 920, 2725, 5846, 11545, 19976, 30982, 44705, 61519]"
      ]
     },
     "execution_count": 7,
     "metadata": {},
     "output_type": "execute_result"
    }
   ],
   "source": [
    "f1 = open(\"/home/renato/tesi/code/data/plot5.decgH1\",r'rb')\n",
    "f2 = open(\"/home/renato/tesi/code/data/plot5.decgW1\",r'rb')\n",
    "prbl_decgH1 = pickle.load(f1)\n",
    "prbl_decgW1 = pickle.load(f2)\n",
    "Hnnodes1 = []\n",
    "Wnnodes1 = []\n",
    "Wvalues = list(prbl_decgH1.keys())\n",
    "Wvalues.sort()\n",
    "for W in Wvalues:\n",
    "    Hnnodes1.append(prbl_decgH1[W].nnodes)\n",
    "    Wnnodes1.append(prbl_decgW1[W].nnodes)\n",
    "Hnnodes1"
   ]
  },
  {
   "cell_type": "code",
   "execution_count": 8,
   "metadata": {
    "collapsed": false
   },
   "outputs": [
    {
     "data": {
      "image/png": "[encoded data removed]",
      "text/plain": [
       "<matplotlib.figure.Figure at 0x7f0192a9cef0>"
      ]
     },
     "metadata": {},
     "output_type": "display_data"
    }
   ],
   "source": [
    "matplotlib.style.use('ggplot')\n",
    "#plt.rcdefaults()\n",
    "\n",
    "label_size = 16\n",
    "ms = 2\n",
    "_dpi = 250\n",
    "#plt.ylim((-100,int(10e5)))\n",
    "ax = plt.gca()\n",
    "ax.set_yscale('log')\n",
    "plt.rc('text', usetex=True)\n",
    "plt.rc('font', family='serif')\n",
    "plt.plot(Wvalues,Hnnodes1,'rx-',label='H solver',markeredgewidth=ms)\n",
    "plt.plot(Wvalues,Wnnodes1,'gx-',label='W solver',markeredgewidth=ms)\n",
    "plt.legend(loc=2)\n",
    "plt.xlabel(r'$W$',fontsize=label_size)\n",
    "plt.ylabel(r'number of nodes',rotation='vertical', fontsize=label_size, horizontalalignment='right')\n",
    "plt.savefig(\"/home/renato/tesi/testogit/img/nnodesW.pdf\",dpi=_dpi,bbox_inches='tight')\n",
    "plt.show()"
   ]
  },
  {
   "cell_type": "code",
   "execution_count": 5,
   "metadata": {
    "collapsed": false,
    "scrolled": true
   },
   "outputs": [
    {
     "name": "stdout",
     "output_type": "stream",
     "text": [
      "Solution for N=1\n",
      "\n",
      "Solver =  pulp \n",
      "Entropy =  0.06953064242416866 \n",
      "Cardinality =  1 \n",
      "Rate =  0.0170857511283\n",
      "\n",
      "Solver =  decgraphH \n",
      "Entropy =  0.0695306424242 \n",
      "Cardinality =  1 \n",
      "Rate =  0.0170857511283\n",
      "\n",
      "Solver =  decgraphW \n",
      "Entropy =  0.0695306424242 \n",
      "Cardinality =  1 \n",
      "Rate =  0.0170857511283\n",
      "-----------------------------------\n",
      "Solution for N=2\n",
      "\n",
      "Solver =  pulp \n",
      "Entropy =  0.13906128484833732 \n",
      "Cardinality =  2 \n",
      "Rate =  0.0341715022566\n",
      "\n",
      "Solver =  decgraphH \n",
      "Entropy =  0.139061284848 \n",
      "Cardinality =  2 \n",
      "Rate =  0.0341715022566\n",
      "\n",
      "Solver =  decgraphW \n",
      "Entropy =  0.139061284848 \n",
      "Cardinality =  2 \n",
      "Rate =  0.0341715022566\n",
      "-----------------------------------\n",
      "Solution for N=3\n",
      "\n",
      "Solver =  pulp \n",
      "Entropy =  0.20859192727250597 \n",
      "Cardinality =  3 \n",
      "Rate =  0.0512572533849\n",
      "\n",
      "Solver =  decgraphH \n",
      "Entropy =  0.208591927273 \n",
      "Cardinality =  3 \n",
      "Rate =  0.0512572533849\n",
      "\n",
      "Solver =  decgraphW \n",
      "Entropy =  0.208591927273 \n",
      "Cardinality =  3 \n",
      "Rate =  0.0512572533849\n",
      "-----------------------------------\n",
      "Solution for N=4\n",
      "\n",
      "Solver =  pulp \n",
      "Entropy =  0.2771299828843896 \n",
      "Cardinality =  4 \n",
      "Rate =  0.0680206318504\n",
      "\n",
      "Solver =  decgraphH \n",
      "Entropy =  0.277129982884 \n",
      "Cardinality =  4 \n",
      "Rate =  0.0680206318504\n",
      "\n",
      "Solver =  decgraphW \n",
      "Entropy =  0.277129982884 \n",
      "Cardinality =  4 \n",
      "Rate =  0.0680206318504\n",
      "-----------------------------------\n",
      "Solution for N=5\n",
      "\n",
      "Solver =  pulp \n",
      "Entropy =  0.34566803849627326 \n",
      "Cardinality =  5 \n",
      "Rate =  0.0847840103159\n",
      "\n",
      "Solver =  decgraphH \n",
      "Entropy =  0.345668038496 \n",
      "Cardinality =  5 \n",
      "Rate =  0.0847840103159\n",
      "\n",
      "Solver =  decgraphW \n",
      "Entropy =  0.345668038496 \n",
      "Cardinality =  5 \n",
      "Rate =  0.0847840103159\n",
      "-----------------------------------\n",
      "Solution for N=6\n",
      "\n",
      "Solver =  pulp \n",
      "Entropy =  0.40921203918319227 \n",
      "Cardinality =  6 \n",
      "Rate =  0.0999355254674\n",
      "\n",
      "Solver =  decgraphH \n",
      "Entropy =  0.409212039183 \n",
      "Cardinality =  6 \n",
      "Rate =  0.0999355254674\n",
      "-----------------------------------\n"
     ]
    }
   ],
   "source": [
    "df = df_head\n",
    "W = 0.1\n",
    "minN = 1\n",
    "maxN = 7\n",
    "#Nsteps = 10\n",
    "#step = int((maxN-minN)/Nsteps)\n",
    "step = 1\n",
    "Nvalues = np.arange(minN,maxN,step)\n",
    "    \n",
    "prbl_decgH2 = {}\n",
    "prbl_decgW2 = {}\n",
    "Hnnodes2 = []\n",
    "Wnnodes2 = []\n",
    "for N in Nvalues:\n",
    "    print(\"Solution for N={0}\".format(N))\n",
    "    prbl_pulp = BPV.BPV(\"pulp\",df,N,W,time_solver=False)\n",
    "    prbl_pulp.solve()\n",
    "    prbl_pulp.pprint_solution()\n",
    "\n",
    "    prbl_decgH2[N] = BPV.BPV(\"decgraphH\",df,N,W,time_solver=False)\n",
    "    prbl_decgH2[N].solve()\n",
    "    prbl_decgH2[N].pprint_solution()\n",
    "    Hnnodes2.append(prbl_decgH2[N].nnodes)\n",
    "   \n",
    "    if N < 6:\n",
    "        prbl_decgW2[N] = BPV.BPV(\"decgraphW\",df,N,W,time_solver=False)\n",
    "        prbl_decgW2[N].solve()\n",
    "        prbl_decgW2[N].pprint_solution()\n",
    "        Wnnodes2.append(prbl_decgW2[N].nnodes)\n",
    "\n",
    "    print(\"-----------------------------------\")\n",
    "\n",
    "f21 = open(\"/home/renato/tesi/code/data/plot5.decgH2\",r'wb')\n",
    "f22 = open(\"/home/renato/tesi/code/data/plot5.decgW2\",r'wb')\n",
    "pickle.dump(prbl_decgH2,f21)\n",
    "pickle.dump(prbl_decgW2,f22)\n"
   ]
  },
  {
   "cell_type": "code",
   "execution_count": null,
   "metadata": {
    "collapsed": false
   },
   "outputs": [],
   "source": [
    "f21 = open(\"/home/renato/tesi/code/data/plot5.decgH2\",r'wb')\n",
    "f22 = open(\"/home/renato/tesi/code/data/plot5.decgW2\",r'wb')\n",
    "pickle.dump(prbl_decgH2,f21)\n",
    "pickle.dump(prbl_decgW2,f22)\n"
   ]
  },
  {
   "cell_type": "code",
   "execution_count": 9,
   "metadata": {
    "collapsed": false
   },
   "outputs": [
    {
     "ename": "KeyError",
     "evalue": "6",
     "output_type": "error",
     "traceback": [
      "\u001b[1;31m---------------------------------------------------------------------------\u001b[0m",
      "\u001b[1;31mKeyError\u001b[0m                                  Traceback (most recent call last)",
      "\u001b[1;32m<ipython-input-9-9dde12e78aff>\u001b[0m in \u001b[0;36m<module>\u001b[1;34m()\u001b[0m\n\u001b[0;32m      9\u001b[0m \u001b[1;32mfor\u001b[0m \u001b[0mN\u001b[0m \u001b[1;32min\u001b[0m \u001b[0mNvalues\u001b[0m\u001b[1;33m:\u001b[0m\u001b[1;33m\u001b[0m\u001b[0m\n\u001b[0;32m     10\u001b[0m     \u001b[0mHnnodes2\u001b[0m\u001b[1;33m.\u001b[0m\u001b[0mappend\u001b[0m\u001b[1;33m(\u001b[0m\u001b[0mprbl_decgH2\u001b[0m\u001b[1;33m[\u001b[0m\u001b[0mN\u001b[0m\u001b[1;33m]\u001b[0m\u001b[1;33m.\u001b[0m\u001b[0mnnodes\u001b[0m\u001b[1;33m)\u001b[0m\u001b[1;33m\u001b[0m\u001b[0m\n\u001b[1;32m---> 11\u001b[1;33m     \u001b[0mWnnodes2\u001b[0m\u001b[1;33m.\u001b[0m\u001b[0mappend\u001b[0m\u001b[1;33m(\u001b[0m\u001b[0mprbl_decgW2\u001b[0m\u001b[1;33m[\u001b[0m\u001b[0mN\u001b[0m\u001b[1;33m]\u001b[0m\u001b[1;33m.\u001b[0m\u001b[0mnnodes\u001b[0m\u001b[1;33m)\u001b[0m\u001b[1;33m\u001b[0m\u001b[0m\n\u001b[0m\u001b[0;32m     12\u001b[0m \u001b[0mHnnodes2\u001b[0m\u001b[1;33m\u001b[0m\u001b[0m\n",
      "\u001b[1;31mKeyError\u001b[0m: 6"
     ]
    }
   ],
   "source": [
    "f21 = open(\"/home/renato/tesi/code/data/plot5.decgH2\",r'rb')\n",
    "f22 = open(\"/home/renato/tesi/code/data/plot5.decgW2\",r'rb')\n",
    "prbl_decgH2 = pickle.load(f21)\n",
    "prbl_decgW2 = pickle.load(f22)\n",
    "Hnnodes2 = []\n",
    "Wnnodes2 = []\n",
    "Nvalues = list(prbl_decgH2.keys())\n",
    "Nvalues.sort()\n",
    "for N in Nvalues:\n",
    "    Hnnodes2.append(prbl_decgH2[N].nnodes)\n",
    "    Wnnodes2.append(prbl_decgW2[N].nnodes)\n",
    "Hnnodes2"
   ]
  },
  {
   "cell_type": "code",
   "execution_count": 11,
   "metadata": {
    "collapsed": false
   },
   "outputs": [
    {
     "data": {
      "text/plain": [
       "[201, 4338, 59551, 615891, 5149243]"
      ]
     },
     "execution_count": 11,
     "metadata": {},
     "output_type": "execute_result"
    }
   ],
   "source": [
    "Wnnodes2"
   ]
  },
  {
   "cell_type": "code",
   "execution_count": 15,
   "metadata": {
    "collapsed": false
   },
   "outputs": [
    {
     "data": {
      "image/png": "[encoded data removed]",
      "text/plain": [
       "<matplotlib.figure.Figure at 0x7f018d558be0>"
      ]
     },
     "metadata": {},
     "output_type": "display_data"
    }
   ],
   "source": [
    "matplotlib.style.use('ggplot')\n",
    "#plt.rcdefaults()\n",
    "\n",
    "label_size = 16\n",
    "ms = 2\n",
    "_dpi = 250\n",
    "#plt.ylim((-100,int(10e5)))\n",
    "ax = plt.gca()\n",
    "ax.set_yscale('log')\n",
    "plt.rc('text', usetex=True)\n",
    "plt.rc('font', family='serif')\n",
    "plt.plot(Nvalues,Hnnodes2,'rx-',label='H solver',markeredgewidth=ms)\n",
    "plt.plot(Nvalues[:5],Wnnodes2,'gx-',label='W solver',markeredgewidth=ms)\n",
    "plt.legend(loc=2)\n",
    "plt.xlabel(r'$N$',fontsize=label_size)\n",
    "plt.ylabel(r'number of nodes',rotation='vertical', fontsize=label_size, horizontalalignment='right')\n",
    "plt.savefig(\"/home/renato/tesi/testogit/img/nnodesN.pdf\",dpi=_dpi,bbox_inches='tight')\n",
    "plt.show()"
   ]
  },
  {
   "cell_type": "code",
   "execution_count": 2,
   "metadata": {
    "collapsed": false,
    "scrolled": true
   },
   "outputs": [
    {
     "name": "stdout",
     "output_type": "stream",
     "text": [
      "Solution for n=30\n",
      "\n",
      "Solver =  pulp \n",
      "Entropy =  0.3653890220257811 \n",
      "Cardinality =  4 \n",
      "Rate =  0.0987654320988\n",
      "\n",
      "Solver =  decgraphH \n",
      "Entropy =  0.365389022026 \n",
      "Cardinality =  4 \n",
      "Rate =  0.0987654320988\n",
      "\n",
      "Solver =  decgraphW \n",
      "Entropy =  0.365389022026 \n",
      "Cardinality =  4 \n",
      "Rate =  0.0987654320988\n",
      "-----------------------------------\n",
      "Solution for n=40\n",
      "\n",
      "Solver =  pulp \n",
      "Entropy =  0.40514105830010316 \n",
      "Cardinality =  6 \n",
      "Rate =  0.0988857938719\n",
      "\n",
      "Solver =  decgraphH \n",
      "Entropy =  0.4051410583 \n",
      "Cardinality =  6 \n",
      "Rate =  0.0988857938719\n",
      "\n",
      "Solver =  decgraphW \n",
      "Entropy =  0.4051410583 \n",
      "Cardinality =  6 \n",
      "Rate =  0.0988857938719\n",
      "-----------------------------------\n",
      "Solution for n=50\n",
      "\n",
      "Solver =  pulp \n",
      "Entropy =  0.4345354911306133 \n",
      "Cardinality =  8 \n",
      "Rate =  0.0991983967936\n",
      "\n",
      "Solver =  decgraphH \n",
      "Entropy =  0.434535491131 \n",
      "Cardinality =  8 \n",
      "Rate =  0.0991983967936\n",
      "\n",
      "Solver =  decgraphW \n",
      "Entropy =  0.434535491131 \n",
      "Cardinality =  8 \n",
      "Rate =  0.0991983967936\n",
      "-----------------------------------\n"
     ]
    }
   ],
   "source": [
    "df = BPV.Data()\n",
    "df.read_csv(\"p.delviva.csv\",False)\n",
    "df.df.sort_index(by=\"p\",inplace=True,ascending=True)\n",
    "df.df.set_index(pd.Index([j for j in range(len(df.df))]), inplace=True)\n",
    "\n",
    "minn = 30\n",
    "maxn = 60\n",
    "step = 10\n",
    "nvalues = np.arange(minn,maxn,step)\n",
    "\n",
    "W = 0.1\n",
    "N = 10\n",
    "\n",
    "prbl_decgH3 = {}\n",
    "prbl_decgW3 = {}\n",
    "Hnnodes3 = []\n",
    "Wnnodes3 = []\n",
    "for n in nvalues:\n",
    "    df_head = df.data_head(n)\n",
    "    print(\"Solution for n={0}\".format(n))\n",
    "    prbl_pulp = BPV.BPV(\"pulp\",df_head,N,W,time_solver=False)\n",
    "    prbl_pulp.solve()\n",
    "    prbl_pulp.pprint_solution()\n",
    "\n",
    "    prbl_decgH3[N] = BPV.BPV(\"decgraphH\",df_head,N,W,time_solver=False)\n",
    "    prbl_decgH3[N].solve()\n",
    "    prbl_decgH3[N].pprint_solution()\n",
    "    Hnnodes3.append(prbl_decgH3[N].nnodes)\n",
    "   \n",
    "    prbl_decgW3[N] = BPV.BPV(\"decgraphW\",df_head,N,W,time_solver=False)\n",
    "    prbl_decgW3[N].solve()\n",
    "    prbl_decgW3[N].pprint_solution()\n",
    "    Wnnodes3.append(prbl_decgW3[N].nnodes)\n",
    "\n",
    "    print(\"-----------------------------------\")\n",
    "\n",
    "f31 = open(\"/home/renato/tesi/code/data/plot5.decgH3\",r'wb')\n",
    "f32 = open(\"/home/renato/tesi/code/data/plot5.decgW3\",r'wb')\n",
    "pickle.dump(prbl_decgH3,f31)\n",
    "pickle.dump(prbl_decgW3,f32)\n"
   ]
  },
  {
   "cell_type": "code",
   "execution_count": null,
   "metadata": {
    "collapsed": true
   },
   "outputs": [],
   "source": [
    "f31 = open(\"/home/renato/tesi/code/data/plot5.decgH3\",r'rb')\n",
    "f32 = open(\"/home/renato/tesi/code/data/plot5.decgW3\",r'rb')\n",
    "prbl_decgH3 = pickle.load(f31)\n",
    "prbl_decgW3 = pickle.load(f32)\n",
    "Hnnodes3 = []\n",
    "Wnnodes3 = []\n",
    "nvalues = list(prbl_decgH3.keys())\n",
    "nvalues.sort()\n",
    "for n in nvalues:\n",
    "    Hnnodes2.append(prbl_decgH3[n].nnodes)\n",
    "    Wnnodes2.append(prbl_decgW3[n].nnodes)\n",
    "Hnnodes3"
   ]
  },
  {
   "cell_type": "code",
   "execution_count": 4,
   "metadata": {
    "collapsed": false
   },
   "outputs": [
    {
     "data": {
      "image/png": "[encoded data removed]",
      "text/plain": [
       "<matplotlib.figure.Figure at 0x7f0dbc941898>"
      ]
     },
     "metadata": {},
     "output_type": "display_data"
    }
   ],
   "source": [
    "matplotlib.style.use('ggplot')\n",
    "#plt.rcdefaults()\n",
    "\n",
    "label_size = 16\n",
    "ms = 2\n",
    "_dpi = 250\n",
    "#plt.ylim((-100,int(10e5)))\n",
    "ax = plt.gca()\n",
    "ax.set_yscale('linear')\n",
    "plt.rc('text', usetex=True)\n",
    "plt.rc('font', family='serif')\n",
    "plt.plot(nvalues,Hnnodes3,'rx-',label='H solver',markeredgewidth=ms)\n",
    "plt.plot(nvalues,Wnnodes3,'gx-',label='W solver',markeredgewidth=ms)\n",
    "plt.legend(loc=2)\n",
    "plt.xlabel(r'$n$',fontsize=label_size)\n",
    "plt.ylabel(r'number of nodes',rotation='vertical', fontsize=label_size, horizontalalignment='right')\n",
    "#plt.savefig(\"/home/renato/tesi/testogit/img/nnodesN.png\",dpi=_dpi,bbox_inches='tight')\n",
    "plt.show()"
   ]
  }
 ],
 "metadata": {
  "kernelspec": {
   "display_name": "Python 3",
   "language": "python",
   "name": "python3"
  },
  "language_info": {
   "codemirror_mode": {
    "name": "ipython",
    "version": 3
   },
   "file_extension": ".py",
   "mimetype": "text/x-python",
   "name": "python",
   "nbconvert_exporter": "python",
   "pygments_lexer": "ipython3",
   "version": "3.4.3"
  }
 },
 "nbformat": 4,
 "nbformat_minor": 0
}
