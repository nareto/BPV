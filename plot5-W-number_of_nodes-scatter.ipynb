{
 "cells": [
  {
   "cell_type": "code",
   "execution_count": 1,
   "metadata": {
    "collapsed": false
   },
   "outputs": [
    {
     "name": "stdout",
     "output_type": "stream",
     "text": [
      "The autoreload extension is already loaded. To reload it, use:\n",
      "  %reload_ext autoreload\n"
     ]
    }
   ],
   "source": [
    "%load_ext autoreload\n",
    "%autoreload 2\n",
    "import sys\n",
    "#sys.path.append('/usr/lib/python3.4/site-packages')\n",
    "import matplotlib\n",
    "#%matplotlib inline\n",
    "matplotlib.use('TkAgg')\n",
    "import BPV\n",
    "import pattern_manipulation as pm\n",
    "import numpy as np\n",
    "import matplotlib.pyplot as plt\n",
    "import pandas as pd"
   ]
  },
  {
   "cell_type": "code",
   "execution_count": 2,
   "metadata": {
    "collapsed": true
   },
   "outputs": [],
   "source": [
    "df = BPV.Data()\n",
    "df.read_csv(\"p.delviva.csv\",False)\n",
    "df.df.sort_index(by=\"p\",inplace=True,ascending=True)\n",
    "df.df.set_index(pd.Index([j for j in range(len(df.df))]), inplace=True)\n",
    "df = df.data_head(100)"
   ]
  },
  {
   "cell_type": "code",
   "execution_count": null,
   "metadata": {
    "collapsed": false,
    "scrolled": true
   },
   "outputs": [
    {
     "name": "stdout",
     "output_type": "stream",
     "text": [
      "Solution for W=0.005\n",
      "\n",
      "Solver =  pulp \n",
      "Entropy =  0.025782167034014872 \n",
      "Cardinality =  1 \n",
      "Rate =  0.00483558994197\n",
      "\n",
      "Solver =  decgraphV \n",
      "Entropy =  0.025782167034 \n",
      "Cardinality =  1 \n",
      "Rate =  0.00483558994197\n",
      "\n",
      "Solver =  decgraphW \n",
      "Entropy =  0.025782167034 \n",
      "Cardinality =  1 \n",
      "Rate =  0.00483558994197\n",
      "-----------------------------------\n",
      "Solution for W=0.01\n",
      "\n",
      "Solver =  pulp \n",
      "Entropy =  0.05696491149524207 \n",
      "Cardinality =  3 \n",
      "Rate =  0.00999355254674\n",
      "\n",
      "Solver =  decgraphV \n",
      "Entropy =  0.0569649114952 \n",
      "Cardinality =  3 \n",
      "Rate =  0.00999355254674\n",
      "\n",
      "Solver =  decgraphW \n",
      "Entropy =  0.0569649114952 \n",
      "Cardinality =  3 \n",
      "Rate =  0.00999355254674\n",
      "-----------------------------------\n",
      "Solution for W=0.015\n",
      "\n",
      "Solver =  pulp \n",
      "Entropy =  0.08299144171998779 \n",
      "Cardinality =  4 \n",
      "Rate =  0.0148291424887\n",
      "\n",
      "Solver =  decgraphV \n",
      "Entropy =  0.08299144172 \n",
      "Cardinality =  4 \n",
      "Rate =  0.0148291424887\n",
      "\n",
      "Solver =  decgraphW \n",
      "Entropy =  0.08299144172 \n",
      "Cardinality =  4 \n",
      "Rate =  0.0148291424887\n",
      "-----------------------------------\n",
      "Solution for W=0.025\n",
      "\n",
      "Solver =  pulp \n",
      "Entropy =  0.1398025789686828 \n",
      "Cardinality =  7 \n",
      "Rate =  0.0248226950355\n",
      "\n",
      "Solver =  decgraphV \n",
      "Entropy =  0.139802578969 \n",
      "Cardinality =  7 \n",
      "Rate =  0.0248226950355\n",
      "\n",
      "Solver =  decgraphW \n",
      "Entropy =  0.139802578969 \n",
      "Cardinality =  7 \n",
      "Rate =  0.0248226950355\n",
      "-----------------------------------\n",
      "Solution for W=0.03\n",
      "\n",
      "Solver =  pulp \n",
      "Entropy =  0.16716447310816163 \n",
      "Cardinality =  8 \n",
      "Rate =  0.0299806576402\n",
      "\n",
      "Solver = "
     ]
    }
   ],
   "source": [
    "## N=50\n",
    "#Wvalues = [0.005,0.01,0.05,0.1,0.125,0.15,0.175,0.2,0.25,0.3,0.35]\n",
    "Wvalues = [0.005, 0.01, 0.015, 0.025, 0.03, 0.035]\n",
    "#Wvalues = [0.005]\n",
    "\n",
    "    \n",
    "prbl_decgV = {}\n",
    "prbl_decgW = {}\n",
    "Hnnodes = []\n",
    "Wnnodes = []\n",
    "for W in Wvalues:\n",
    "    print(\"Solution for W={0}\".format(W))\n",
    "    prbl_pulp = BPV.BPV(\"pulp\",df,N,W,time_solver=False)\n",
    "    prbl_pulp.solve()\n",
    "    prbl_pulp.pprint_solution()\n",
    "\n",
    "    prbl_decgV[W] = BPV.BPV(\"decgraphV\",df,N,W,time_solver=False)\n",
    "    prbl_decgV[W].solve()\n",
    "    prbl_decgV[W].pprint_solution()\n",
    "    Hnnodes.append(prbl_decgV[W].nnodes)\n",
    "   \n",
    "    prbl_decgW[W] = BPV.BPV(\"decgraphW\",df,N,W,time_solver=False)\n",
    "    prbl_decgW[W].solve()\n",
    "    prbl_decgW[W].pprint_solution()\n",
    "    Wnnodes.append(prbl_decgW[W].nnodes)\n",
    "\n",
    "    print(\"-----------------------------------\")\n"
   ]
  },
  {
   "cell_type": "code",
   "execution_count": 32,
   "metadata": {
    "collapsed": false
   },
   "outputs": [],
   "source": [
    "matplotlib.style.use('ggplot')\n",
    "\n",
    "#plt.ylim((-100,int(10e5)))\n",
    "ax = plt.gca()\n",
    "ax.set_yscale('log')\n",
    "plt.rc('text', usetex=True)\n",
    "plt.rc('font', family='serif')\n",
    "plt.plot(Wvalues,Hnnodes,'ro',label='H solver')\n",
    "plt.plot(Wvalues,Wnnodes,'go',label='W solver')\n",
    "plt.legend(loc=2)\n",
    "plt.show()"
   ]
  }
 ],
 "metadata": {
  "kernelspec": {
   "display_name": "Python 3",
   "language": "python",
   "name": "python3"
  },
  "language_info": {
   "codemirror_mode": {
    "name": "ipython",
    "version": 3
   },
   "file_extension": ".py",
   "mimetype": "text/x-python",
   "name": "python",
   "nbconvert_exporter": "python",
   "pygments_lexer": "ipython3",
   "version": "3.4.3"
  }
 },
 "nbformat": 4,
 "nbformat_minor": 0
}
