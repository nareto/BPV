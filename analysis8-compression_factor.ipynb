{
 "cells": [
  {
   "cell_type": "code",
   "execution_count": 1,
   "metadata": {
    "collapsed": false
   },
   "outputs": [
    {
     "name": "stdout",
     "output_type": "stream",
     "text": [
      "The autoreload extension is already loaded. To reload it, use:\n",
      "  %reload_ext autoreload\n"
     ]
    }
   ],
   "source": [
    "%load_ext autoreload\n",
    "%autoreload 0\n",
    "import sys\n",
    "#sys.path.append('/usr/lib/python3.4/site-packages')\n",
    "import matplotlib\n",
    "%matplotlib inline\n",
    "#matplotlib.use('TkAgg')\n",
    "import BPV\n",
    "import pattern_manipulation as pm\n",
    "import numpy as np\n",
    "import matplotlib.pyplot as plt\n",
    "import pandas as pd\n",
    "import pickle"
   ]
  },
  {
   "cell_type": "code",
   "execution_count": 5,
   "metadata": {
    "collapsed": false
   },
   "outputs": [
    {
     "name": "stdout",
     "output_type": "stream",
     "text": [
      "tot entropy:  1.52743150512\n",
      "\n",
      "Solver =  heuristic \n",
      "Entropy =  0.323043576476 \n",
      "Cardinality =  39 \n",
      "Rate =  0.0486692968384\n"
     ]
    }
   ],
   "source": [
    "df = BPV.Data()\n",
    "df.read_csv(\"p.delviva.csv\",False)\n",
    "df.df.sort_index(by=\"p\",inplace=True,ascending=True)\n",
    "df.df.set_index(pd.Index([j for j in range(len(df.df))]), inplace=True)\n",
    "tot_entropy = df.df['plog1onp'].sum()\n",
    "print(\"tot entropy: \", tot_entropy)\n",
    "\n",
    "N=50\n",
    "W=0.05\n",
    "prbl_heur = BPV.BPV(\"heuristic\",df,N,W,time_solver=False)\n",
    "prbl_heur.solve()\n",
    "#cProfile.run('prbl.solve()',sort=1)\n",
    "prbl_heur.pprint_solution()"
   ]
  },
  {
   "cell_type": "code",
   "execution_count": 7,
   "metadata": {
    "collapsed": false
   },
   "outputs": [
    {
     "data": {
      "text/plain": [
       "0.21149464011487373"
      ]
     },
     "execution_count": 7,
     "metadata": {},
     "output_type": "execute_result"
    }
   ],
   "source": [
    "prbl_heur.solution_entropy/tot_entropy"
   ]
  },
  {
   "cell_type": "code",
   "execution_count": 42,
   "metadata": {
    "collapsed": false
   },
   "outputs": [
    {
     "data": {
      "image/png": "[encoded data removed]",
      "text/plain": [
       "<matplotlib.figure.Figure at 0x7f352b75e160>"
      ]
     },
     "metadata": {},
     "output_type": "display_data"
    }
   ],
   "source": [
    "def heuristic(x,N,W):\n",
    "    num = -x*np.log(x)\n",
    "    den = max(1/N, x/W)\n",
    "    return(num/den)\n",
    "\n",
    "ax = plt.gca()\n",
    "ax.set_yscale('linear')\n",
    "\n",
    "p = df.df['p']\n",
    "step = 1/len(p)\n",
    "prange = np.arange(0,1,step)\n",
    "logrange = np.log(p)\n",
    "\n",
    "scaleheur = 150\n",
    "f1 = []\n",
    "f2 = []\n",
    "for x in p:\n",
    "    f1.append(scaleheur*heuristic(x,50,0.05))\n",
    "    f2.append(scaleheur*heuristic(x,15,0.05))\n",
    "\n",
    "\n",
    "plt.plot(logrange, f1, 'g')\n",
    "plt.plot(logrange, f2,'b')\n",
    "#plt.plot(prbl_heur.heuristic_cost)\n",
    "plt.hist(logrange, 30, facecolor='green', alpha=0.5)\n",
    "\n",
    "plt.show()"
   ]
  },
  {
   "cell_type": "code",
   "execution_count": null,
   "metadata": {
    "collapsed": true
   },
   "outputs": [],
   "source": []
  }
 ],
 "metadata": {
  "kernelspec": {
   "display_name": "Python 3",
   "language": "python",
   "name": "python3"
  },
  "language_info": {
   "codemirror_mode": {
    "name": "ipython",
    "version": 3
   },
   "file_extension": ".py",
   "mimetype": "text/x-python",
   "name": "python",
   "nbconvert_exporter": "python",
   "pygments_lexer": "ipython3",
   "version": "3.4.3"
  }
 },
 "nbformat": 4,
 "nbformat_minor": 0
}
